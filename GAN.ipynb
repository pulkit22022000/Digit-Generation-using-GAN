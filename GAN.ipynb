{
  "nbformat": 4,
  "nbformat_minor": 0,
  "metadata": {
    "colab": {
      "name": "GAN.ipynb",
      "provenance": [],
      "authorship_tag": "ABX9TyMf63xs9AHxF6tivZMaQsT6",
      "include_colab_link": true
    },
    "kernelspec": {
      "name": "python3",
      "display_name": "Python 3"
    },
    "language_info": {
      "name": "python"
    },
    "accelerator": "GPU",
    "widgets": {
      "application/vnd.jupyter.widget-state+json": {
        "00a7a79f95ab49c49c32263e91bb91c3": {
          "model_module": "@jupyter-widgets/controls",
          "model_name": "HBoxModel",
          "model_module_version": "1.5.0",
          "state": {
            "_view_name": "HBoxView",
            "_dom_classes": [],
            "_model_name": "HBoxModel",
            "_view_module": "@jupyter-widgets/controls",
            "_model_module_version": "1.5.0",
            "_view_count": null,
            "_view_module_version": "1.5.0",
            "box_style": "",
            "layout": "IPY_MODEL_685f80fe95a8470ba0d8ac232aefde48",
            "_model_module": "@jupyter-widgets/controls",
            "children": [
              "IPY_MODEL_53112aee574b460681e590d08bf47a06",
              "IPY_MODEL_bd91a89c904c422db4b7484d5cd51bbe",
              "IPY_MODEL_8bc909a57aaa4be4b993f546c3b212e3"
            ]
          }
        },
        "685f80fe95a8470ba0d8ac232aefde48": {
          "model_module": "@jupyter-widgets/base",
          "model_name": "LayoutModel",
          "model_module_version": "1.2.0",
          "state": {
            "_view_name": "LayoutView",
            "grid_template_rows": null,
            "right": null,
            "justify_content": null,
            "_view_module": "@jupyter-widgets/base",
            "overflow": null,
            "_model_module_version": "1.2.0",
            "_view_count": null,
            "flex_flow": null,
            "width": null,
            "min_width": null,
            "border": null,
            "align_items": null,
            "bottom": null,
            "_model_module": "@jupyter-widgets/base",
            "top": null,
            "grid_column": null,
            "overflow_y": null,
            "overflow_x": null,
            "grid_auto_flow": null,
            "grid_area": null,
            "grid_template_columns": null,
            "flex": null,
            "_model_name": "LayoutModel",
            "justify_items": null,
            "grid_row": null,
            "max_height": null,
            "align_content": null,
            "visibility": null,
            "align_self": null,
            "height": null,
            "min_height": null,
            "padding": null,
            "grid_auto_rows": null,
            "grid_gap": null,
            "max_width": null,
            "order": null,
            "_view_module_version": "1.2.0",
            "grid_template_areas": null,
            "object_position": null,
            "object_fit": null,
            "grid_auto_columns": null,
            "margin": null,
            "display": null,
            "left": null
          }
        },
        "53112aee574b460681e590d08bf47a06": {
          "model_module": "@jupyter-widgets/controls",
          "model_name": "HTMLModel",
          "model_module_version": "1.5.0",
          "state": {
            "_view_name": "HTMLView",
            "style": "IPY_MODEL_5d9d1326a8fb4cc8b89b10a432b25476",
            "_dom_classes": [],
            "description": "",
            "_model_name": "HTMLModel",
            "placeholder": "​",
            "_view_module": "@jupyter-widgets/controls",
            "_model_module_version": "1.5.0",
            "value": "",
            "_view_count": null,
            "_view_module_version": "1.5.0",
            "description_tooltip": null,
            "_model_module": "@jupyter-widgets/controls",
            "layout": "IPY_MODEL_33f8f13c0ca24f75b66db9713ab021b1"
          }
        },
        "bd91a89c904c422db4b7484d5cd51bbe": {
          "model_module": "@jupyter-widgets/controls",
          "model_name": "FloatProgressModel",
          "model_module_version": "1.5.0",
          "state": {
            "_view_name": "ProgressView",
            "style": "IPY_MODEL_8f06f04e92814ba9b41fed2ff28a093a",
            "_dom_classes": [],
            "description": "",
            "_model_name": "FloatProgressModel",
            "bar_style": "success",
            "max": 9912422,
            "_view_module": "@jupyter-widgets/controls",
            "_model_module_version": "1.5.0",
            "value": 9912422,
            "_view_count": null,
            "_view_module_version": "1.5.0",
            "orientation": "horizontal",
            "min": 0,
            "description_tooltip": null,
            "_model_module": "@jupyter-widgets/controls",
            "layout": "IPY_MODEL_1f07d877a241466989b84f7308e2cf80"
          }
        },
        "8bc909a57aaa4be4b993f546c3b212e3": {
          "model_module": "@jupyter-widgets/controls",
          "model_name": "HTMLModel",
          "model_module_version": "1.5.0",
          "state": {
            "_view_name": "HTMLView",
            "style": "IPY_MODEL_3b818fd20661439797657386633c4587",
            "_dom_classes": [],
            "description": "",
            "_model_name": "HTMLModel",
            "placeholder": "​",
            "_view_module": "@jupyter-widgets/controls",
            "_model_module_version": "1.5.0",
            "value": " 9913344/? [02:24&lt;00:00, 39048.02it/s]",
            "_view_count": null,
            "_view_module_version": "1.5.0",
            "description_tooltip": null,
            "_model_module": "@jupyter-widgets/controls",
            "layout": "IPY_MODEL_229c5ee18ed54279820b4f52e86a8efc"
          }
        },
        "5d9d1326a8fb4cc8b89b10a432b25476": {
          "model_module": "@jupyter-widgets/controls",
          "model_name": "DescriptionStyleModel",
          "model_module_version": "1.5.0",
          "state": {
            "_view_name": "StyleView",
            "_model_name": "DescriptionStyleModel",
            "description_width": "",
            "_view_module": "@jupyter-widgets/base",
            "_model_module_version": "1.5.0",
            "_view_count": null,
            "_view_module_version": "1.2.0",
            "_model_module": "@jupyter-widgets/controls"
          }
        },
        "33f8f13c0ca24f75b66db9713ab021b1": {
          "model_module": "@jupyter-widgets/base",
          "model_name": "LayoutModel",
          "model_module_version": "1.2.0",
          "state": {
            "_view_name": "LayoutView",
            "grid_template_rows": null,
            "right": null,
            "justify_content": null,
            "_view_module": "@jupyter-widgets/base",
            "overflow": null,
            "_model_module_version": "1.2.0",
            "_view_count": null,
            "flex_flow": null,
            "width": null,
            "min_width": null,
            "border": null,
            "align_items": null,
            "bottom": null,
            "_model_module": "@jupyter-widgets/base",
            "top": null,
            "grid_column": null,
            "overflow_y": null,
            "overflow_x": null,
            "grid_auto_flow": null,
            "grid_area": null,
            "grid_template_columns": null,
            "flex": null,
            "_model_name": "LayoutModel",
            "justify_items": null,
            "grid_row": null,
            "max_height": null,
            "align_content": null,
            "visibility": null,
            "align_self": null,
            "height": null,
            "min_height": null,
            "padding": null,
            "grid_auto_rows": null,
            "grid_gap": null,
            "max_width": null,
            "order": null,
            "_view_module_version": "1.2.0",
            "grid_template_areas": null,
            "object_position": null,
            "object_fit": null,
            "grid_auto_columns": null,
            "margin": null,
            "display": null,
            "left": null
          }
        },
        "8f06f04e92814ba9b41fed2ff28a093a": {
          "model_module": "@jupyter-widgets/controls",
          "model_name": "ProgressStyleModel",
          "model_module_version": "1.5.0",
          "state": {
            "_view_name": "StyleView",
            "_model_name": "ProgressStyleModel",
            "description_width": "",
            "_view_module": "@jupyter-widgets/base",
            "_model_module_version": "1.5.0",
            "_view_count": null,
            "_view_module_version": "1.2.0",
            "bar_color": null,
            "_model_module": "@jupyter-widgets/controls"
          }
        },
        "1f07d877a241466989b84f7308e2cf80": {
          "model_module": "@jupyter-widgets/base",
          "model_name": "LayoutModel",
          "model_module_version": "1.2.0",
          "state": {
            "_view_name": "LayoutView",
            "grid_template_rows": null,
            "right": null,
            "justify_content": null,
            "_view_module": "@jupyter-widgets/base",
            "overflow": null,
            "_model_module_version": "1.2.0",
            "_view_count": null,
            "flex_flow": null,
            "width": null,
            "min_width": null,
            "border": null,
            "align_items": null,
            "bottom": null,
            "_model_module": "@jupyter-widgets/base",
            "top": null,
            "grid_column": null,
            "overflow_y": null,
            "overflow_x": null,
            "grid_auto_flow": null,
            "grid_area": null,
            "grid_template_columns": null,
            "flex": null,
            "_model_name": "LayoutModel",
            "justify_items": null,
            "grid_row": null,
            "max_height": null,
            "align_content": null,
            "visibility": null,
            "align_self": null,
            "height": null,
            "min_height": null,
            "padding": null,
            "grid_auto_rows": null,
            "grid_gap": null,
            "max_width": null,
            "order": null,
            "_view_module_version": "1.2.0",
            "grid_template_areas": null,
            "object_position": null,
            "object_fit": null,
            "grid_auto_columns": null,
            "margin": null,
            "display": null,
            "left": null
          }
        },
        "3b818fd20661439797657386633c4587": {
          "model_module": "@jupyter-widgets/controls",
          "model_name": "DescriptionStyleModel",
          "model_module_version": "1.5.0",
          "state": {
            "_view_name": "StyleView",
            "_model_name": "DescriptionStyleModel",
            "description_width": "",
            "_view_module": "@jupyter-widgets/base",
            "_model_module_version": "1.5.0",
            "_view_count": null,
            "_view_module_version": "1.2.0",
            "_model_module": "@jupyter-widgets/controls"
          }
        },
        "229c5ee18ed54279820b4f52e86a8efc": {
          "model_module": "@jupyter-widgets/base",
          "model_name": "LayoutModel",
          "model_module_version": "1.2.0",
          "state": {
            "_view_name": "LayoutView",
            "grid_template_rows": null,
            "right": null,
            "justify_content": null,
            "_view_module": "@jupyter-widgets/base",
            "overflow": null,
            "_model_module_version": "1.2.0",
            "_view_count": null,
            "flex_flow": null,
            "width": null,
            "min_width": null,
            "border": null,
            "align_items": null,
            "bottom": null,
            "_model_module": "@jupyter-widgets/base",
            "top": null,
            "grid_column": null,
            "overflow_y": null,
            "overflow_x": null,
            "grid_auto_flow": null,
            "grid_area": null,
            "grid_template_columns": null,
            "flex": null,
            "_model_name": "LayoutModel",
            "justify_items": null,
            "grid_row": null,
            "max_height": null,
            "align_content": null,
            "visibility": null,
            "align_self": null,
            "height": null,
            "min_height": null,
            "padding": null,
            "grid_auto_rows": null,
            "grid_gap": null,
            "max_width": null,
            "order": null,
            "_view_module_version": "1.2.0",
            "grid_template_areas": null,
            "object_position": null,
            "object_fit": null,
            "grid_auto_columns": null,
            "margin": null,
            "display": null,
            "left": null
          }
        },
        "13035fb7eb514554be2f366e0b400ef5": {
          "model_module": "@jupyter-widgets/controls",
          "model_name": "HBoxModel",
          "model_module_version": "1.5.0",
          "state": {
            "_view_name": "HBoxView",
            "_dom_classes": [],
            "_model_name": "HBoxModel",
            "_view_module": "@jupyter-widgets/controls",
            "_model_module_version": "1.5.0",
            "_view_count": null,
            "_view_module_version": "1.5.0",
            "box_style": "",
            "layout": "IPY_MODEL_98c608da1c7242d9909602d2c8fe964b",
            "_model_module": "@jupyter-widgets/controls",
            "children": [
              "IPY_MODEL_f8ed1d3917e14ecba785bb75cb84f919",
              "IPY_MODEL_1f63a7ab3d2b401e8aa5fdee50df5812",
              "IPY_MODEL_5a771ada929741c88402007552082a94"
            ]
          }
        },
        "98c608da1c7242d9909602d2c8fe964b": {
          "model_module": "@jupyter-widgets/base",
          "model_name": "LayoutModel",
          "model_module_version": "1.2.0",
          "state": {
            "_view_name": "LayoutView",
            "grid_template_rows": null,
            "right": null,
            "justify_content": null,
            "_view_module": "@jupyter-widgets/base",
            "overflow": null,
            "_model_module_version": "1.2.0",
            "_view_count": null,
            "flex_flow": null,
            "width": null,
            "min_width": null,
            "border": null,
            "align_items": null,
            "bottom": null,
            "_model_module": "@jupyter-widgets/base",
            "top": null,
            "grid_column": null,
            "overflow_y": null,
            "overflow_x": null,
            "grid_auto_flow": null,
            "grid_area": null,
            "grid_template_columns": null,
            "flex": null,
            "_model_name": "LayoutModel",
            "justify_items": null,
            "grid_row": null,
            "max_height": null,
            "align_content": null,
            "visibility": null,
            "align_self": null,
            "height": null,
            "min_height": null,
            "padding": null,
            "grid_auto_rows": null,
            "grid_gap": null,
            "max_width": null,
            "order": null,
            "_view_module_version": "1.2.0",
            "grid_template_areas": null,
            "object_position": null,
            "object_fit": null,
            "grid_auto_columns": null,
            "margin": null,
            "display": null,
            "left": null
          }
        },
        "f8ed1d3917e14ecba785bb75cb84f919": {
          "model_module": "@jupyter-widgets/controls",
          "model_name": "HTMLModel",
          "model_module_version": "1.5.0",
          "state": {
            "_view_name": "HTMLView",
            "style": "IPY_MODEL_0d4e1ad7fcac4d23b230dfaf310cfd00",
            "_dom_classes": [],
            "description": "",
            "_model_name": "HTMLModel",
            "placeholder": "​",
            "_view_module": "@jupyter-widgets/controls",
            "_model_module_version": "1.5.0",
            "value": "",
            "_view_count": null,
            "_view_module_version": "1.5.0",
            "description_tooltip": null,
            "_model_module": "@jupyter-widgets/controls",
            "layout": "IPY_MODEL_4b1ca081fd1d4fd09ca46a9cc3dc4087"
          }
        },
        "1f63a7ab3d2b401e8aa5fdee50df5812": {
          "model_module": "@jupyter-widgets/controls",
          "model_name": "FloatProgressModel",
          "model_module_version": "1.5.0",
          "state": {
            "_view_name": "ProgressView",
            "style": "IPY_MODEL_946b7aa3523741d1b002efcfafd6c339",
            "_dom_classes": [],
            "description": "",
            "_model_name": "FloatProgressModel",
            "bar_style": "success",
            "max": 28881,
            "_view_module": "@jupyter-widgets/controls",
            "_model_module_version": "1.5.0",
            "value": 28881,
            "_view_count": null,
            "_view_module_version": "1.5.0",
            "orientation": "horizontal",
            "min": 0,
            "description_tooltip": null,
            "_model_module": "@jupyter-widgets/controls",
            "layout": "IPY_MODEL_452520295dd241bf91c7009927bb147d"
          }
        },
        "5a771ada929741c88402007552082a94": {
          "model_module": "@jupyter-widgets/controls",
          "model_name": "HTMLModel",
          "model_module_version": "1.5.0",
          "state": {
            "_view_name": "HTMLView",
            "style": "IPY_MODEL_b09723461b4240c9a3386698bf75cb2b",
            "_dom_classes": [],
            "description": "",
            "_model_name": "HTMLModel",
            "placeholder": "​",
            "_view_module": "@jupyter-widgets/controls",
            "_model_module_version": "1.5.0",
            "value": " 29696/? [00:00&lt;00:00, 475831.20it/s]",
            "_view_count": null,
            "_view_module_version": "1.5.0",
            "description_tooltip": null,
            "_model_module": "@jupyter-widgets/controls",
            "layout": "IPY_MODEL_a15daa7fa8a24fc9a11c1cba2a507469"
          }
        },
        "0d4e1ad7fcac4d23b230dfaf310cfd00": {
          "model_module": "@jupyter-widgets/controls",
          "model_name": "DescriptionStyleModel",
          "model_module_version": "1.5.0",
          "state": {
            "_view_name": "StyleView",
            "_model_name": "DescriptionStyleModel",
            "description_width": "",
            "_view_module": "@jupyter-widgets/base",
            "_model_module_version": "1.5.0",
            "_view_count": null,
            "_view_module_version": "1.2.0",
            "_model_module": "@jupyter-widgets/controls"
          }
        },
        "4b1ca081fd1d4fd09ca46a9cc3dc4087": {
          "model_module": "@jupyter-widgets/base",
          "model_name": "LayoutModel",
          "model_module_version": "1.2.0",
          "state": {
            "_view_name": "LayoutView",
            "grid_template_rows": null,
            "right": null,
            "justify_content": null,
            "_view_module": "@jupyter-widgets/base",
            "overflow": null,
            "_model_module_version": "1.2.0",
            "_view_count": null,
            "flex_flow": null,
            "width": null,
            "min_width": null,
            "border": null,
            "align_items": null,
            "bottom": null,
            "_model_module": "@jupyter-widgets/base",
            "top": null,
            "grid_column": null,
            "overflow_y": null,
            "overflow_x": null,
            "grid_auto_flow": null,
            "grid_area": null,
            "grid_template_columns": null,
            "flex": null,
            "_model_name": "LayoutModel",
            "justify_items": null,
            "grid_row": null,
            "max_height": null,
            "align_content": null,
            "visibility": null,
            "align_self": null,
            "height": null,
            "min_height": null,
            "padding": null,
            "grid_auto_rows": null,
            "grid_gap": null,
            "max_width": null,
            "order": null,
            "_view_module_version": "1.2.0",
            "grid_template_areas": null,
            "object_position": null,
            "object_fit": null,
            "grid_auto_columns": null,
            "margin": null,
            "display": null,
            "left": null
          }
        },
        "946b7aa3523741d1b002efcfafd6c339": {
          "model_module": "@jupyter-widgets/controls",
          "model_name": "ProgressStyleModel",
          "model_module_version": "1.5.0",
          "state": {
            "_view_name": "StyleView",
            "_model_name": "ProgressStyleModel",
            "description_width": "",
            "_view_module": "@jupyter-widgets/base",
            "_model_module_version": "1.5.0",
            "_view_count": null,
            "_view_module_version": "1.2.0",
            "bar_color": null,
            "_model_module": "@jupyter-widgets/controls"
          }
        },
        "452520295dd241bf91c7009927bb147d": {
          "model_module": "@jupyter-widgets/base",
          "model_name": "LayoutModel",
          "model_module_version": "1.2.0",
          "state": {
            "_view_name": "LayoutView",
            "grid_template_rows": null,
            "right": null,
            "justify_content": null,
            "_view_module": "@jupyter-widgets/base",
            "overflow": null,
            "_model_module_version": "1.2.0",
            "_view_count": null,
            "flex_flow": null,
            "width": null,
            "min_width": null,
            "border": null,
            "align_items": null,
            "bottom": null,
            "_model_module": "@jupyter-widgets/base",
            "top": null,
            "grid_column": null,
            "overflow_y": null,
            "overflow_x": null,
            "grid_auto_flow": null,
            "grid_area": null,
            "grid_template_columns": null,
            "flex": null,
            "_model_name": "LayoutModel",
            "justify_items": null,
            "grid_row": null,
            "max_height": null,
            "align_content": null,
            "visibility": null,
            "align_self": null,
            "height": null,
            "min_height": null,
            "padding": null,
            "grid_auto_rows": null,
            "grid_gap": null,
            "max_width": null,
            "order": null,
            "_view_module_version": "1.2.0",
            "grid_template_areas": null,
            "object_position": null,
            "object_fit": null,
            "grid_auto_columns": null,
            "margin": null,
            "display": null,
            "left": null
          }
        },
        "b09723461b4240c9a3386698bf75cb2b": {
          "model_module": "@jupyter-widgets/controls",
          "model_name": "DescriptionStyleModel",
          "model_module_version": "1.5.0",
          "state": {
            "_view_name": "StyleView",
            "_model_name": "DescriptionStyleModel",
            "description_width": "",
            "_view_module": "@jupyter-widgets/base",
            "_model_module_version": "1.5.0",
            "_view_count": null,
            "_view_module_version": "1.2.0",
            "_model_module": "@jupyter-widgets/controls"
          }
        },
        "a15daa7fa8a24fc9a11c1cba2a507469": {
          "model_module": "@jupyter-widgets/base",
          "model_name": "LayoutModel",
          "model_module_version": "1.2.0",
          "state": {
            "_view_name": "LayoutView",
            "grid_template_rows": null,
            "right": null,
            "justify_content": null,
            "_view_module": "@jupyter-widgets/base",
            "overflow": null,
            "_model_module_version": "1.2.0",
            "_view_count": null,
            "flex_flow": null,
            "width": null,
            "min_width": null,
            "border": null,
            "align_items": null,
            "bottom": null,
            "_model_module": "@jupyter-widgets/base",
            "top": null,
            "grid_column": null,
            "overflow_y": null,
            "overflow_x": null,
            "grid_auto_flow": null,
            "grid_area": null,
            "grid_template_columns": null,
            "flex": null,
            "_model_name": "LayoutModel",
            "justify_items": null,
            "grid_row": null,
            "max_height": null,
            "align_content": null,
            "visibility": null,
            "align_self": null,
            "height": null,
            "min_height": null,
            "padding": null,
            "grid_auto_rows": null,
            "grid_gap": null,
            "max_width": null,
            "order": null,
            "_view_module_version": "1.2.0",
            "grid_template_areas": null,
            "object_position": null,
            "object_fit": null,
            "grid_auto_columns": null,
            "margin": null,
            "display": null,
            "left": null
          }
        },
        "4ba6eb4329374ed48299ed5ac176fc6a": {
          "model_module": "@jupyter-widgets/controls",
          "model_name": "HBoxModel",
          "model_module_version": "1.5.0",
          "state": {
            "_view_name": "HBoxView",
            "_dom_classes": [],
            "_model_name": "HBoxModel",
            "_view_module": "@jupyter-widgets/controls",
            "_model_module_version": "1.5.0",
            "_view_count": null,
            "_view_module_version": "1.5.0",
            "box_style": "",
            "layout": "IPY_MODEL_405006208732426ebb4f0f387aab12cb",
            "_model_module": "@jupyter-widgets/controls",
            "children": [
              "IPY_MODEL_7966e053f46c4b028a822d41fbd49eb2",
              "IPY_MODEL_058f5606c8d04e839261f79daa920f48",
              "IPY_MODEL_37b9ccffeb5241fd9a1c5c32cf987a13"
            ]
          }
        },
        "405006208732426ebb4f0f387aab12cb": {
          "model_module": "@jupyter-widgets/base",
          "model_name": "LayoutModel",
          "model_module_version": "1.2.0",
          "state": {
            "_view_name": "LayoutView",
            "grid_template_rows": null,
            "right": null,
            "justify_content": null,
            "_view_module": "@jupyter-widgets/base",
            "overflow": null,
            "_model_module_version": "1.2.0",
            "_view_count": null,
            "flex_flow": null,
            "width": null,
            "min_width": null,
            "border": null,
            "align_items": null,
            "bottom": null,
            "_model_module": "@jupyter-widgets/base",
            "top": null,
            "grid_column": null,
            "overflow_y": null,
            "overflow_x": null,
            "grid_auto_flow": null,
            "grid_area": null,
            "grid_template_columns": null,
            "flex": null,
            "_model_name": "LayoutModel",
            "justify_items": null,
            "grid_row": null,
            "max_height": null,
            "align_content": null,
            "visibility": null,
            "align_self": null,
            "height": null,
            "min_height": null,
            "padding": null,
            "grid_auto_rows": null,
            "grid_gap": null,
            "max_width": null,
            "order": null,
            "_view_module_version": "1.2.0",
            "grid_template_areas": null,
            "object_position": null,
            "object_fit": null,
            "grid_auto_columns": null,
            "margin": null,
            "display": null,
            "left": null
          }
        },
        "7966e053f46c4b028a822d41fbd49eb2": {
          "model_module": "@jupyter-widgets/controls",
          "model_name": "HTMLModel",
          "model_module_version": "1.5.0",
          "state": {
            "_view_name": "HTMLView",
            "style": "IPY_MODEL_d8ddb86aa4b84eb587f3ac5a7f623d5e",
            "_dom_classes": [],
            "description": "",
            "_model_name": "HTMLModel",
            "placeholder": "​",
            "_view_module": "@jupyter-widgets/controls",
            "_model_module_version": "1.5.0",
            "value": "",
            "_view_count": null,
            "_view_module_version": "1.5.0",
            "description_tooltip": null,
            "_model_module": "@jupyter-widgets/controls",
            "layout": "IPY_MODEL_98c6ec29a4784009999cf85be92357ef"
          }
        },
        "058f5606c8d04e839261f79daa920f48": {
          "model_module": "@jupyter-widgets/controls",
          "model_name": "FloatProgressModel",
          "model_module_version": "1.5.0",
          "state": {
            "_view_name": "ProgressView",
            "style": "IPY_MODEL_ded3aa303c0549678dcd38f5c2ccc815",
            "_dom_classes": [],
            "description": "",
            "_model_name": "FloatProgressModel",
            "bar_style": "success",
            "max": 1648877,
            "_view_module": "@jupyter-widgets/controls",
            "_model_module_version": "1.5.0",
            "value": 1648877,
            "_view_count": null,
            "_view_module_version": "1.5.0",
            "orientation": "horizontal",
            "min": 0,
            "description_tooltip": null,
            "_model_module": "@jupyter-widgets/controls",
            "layout": "IPY_MODEL_bac8d1077b514ba08ce4ee5e6d5b9ed9"
          }
        },
        "37b9ccffeb5241fd9a1c5c32cf987a13": {
          "model_module": "@jupyter-widgets/controls",
          "model_name": "HTMLModel",
          "model_module_version": "1.5.0",
          "state": {
            "_view_name": "HTMLView",
            "style": "IPY_MODEL_1c6069c23d2642018ce688290ab9992c",
            "_dom_classes": [],
            "description": "",
            "_model_name": "HTMLModel",
            "placeholder": "​",
            "_view_module": "@jupyter-widgets/controls",
            "_model_module_version": "1.5.0",
            "value": " 1649664/? [00:42&lt;00:00, 39336.16it/s]",
            "_view_count": null,
            "_view_module_version": "1.5.0",
            "description_tooltip": null,
            "_model_module": "@jupyter-widgets/controls",
            "layout": "IPY_MODEL_451843560dbe4b4ba77badf013020f7c"
          }
        },
        "d8ddb86aa4b84eb587f3ac5a7f623d5e": {
          "model_module": "@jupyter-widgets/controls",
          "model_name": "DescriptionStyleModel",
          "model_module_version": "1.5.0",
          "state": {
            "_view_name": "StyleView",
            "_model_name": "DescriptionStyleModel",
            "description_width": "",
            "_view_module": "@jupyter-widgets/base",
            "_model_module_version": "1.5.0",
            "_view_count": null,
            "_view_module_version": "1.2.0",
            "_model_module": "@jupyter-widgets/controls"
          }
        },
        "98c6ec29a4784009999cf85be92357ef": {
          "model_module": "@jupyter-widgets/base",
          "model_name": "LayoutModel",
          "model_module_version": "1.2.0",
          "state": {
            "_view_name": "LayoutView",
            "grid_template_rows": null,
            "right": null,
            "justify_content": null,
            "_view_module": "@jupyter-widgets/base",
            "overflow": null,
            "_model_module_version": "1.2.0",
            "_view_count": null,
            "flex_flow": null,
            "width": null,
            "min_width": null,
            "border": null,
            "align_items": null,
            "bottom": null,
            "_model_module": "@jupyter-widgets/base",
            "top": null,
            "grid_column": null,
            "overflow_y": null,
            "overflow_x": null,
            "grid_auto_flow": null,
            "grid_area": null,
            "grid_template_columns": null,
            "flex": null,
            "_model_name": "LayoutModel",
            "justify_items": null,
            "grid_row": null,
            "max_height": null,
            "align_content": null,
            "visibility": null,
            "align_self": null,
            "height": null,
            "min_height": null,
            "padding": null,
            "grid_auto_rows": null,
            "grid_gap": null,
            "max_width": null,
            "order": null,
            "_view_module_version": "1.2.0",
            "grid_template_areas": null,
            "object_position": null,
            "object_fit": null,
            "grid_auto_columns": null,
            "margin": null,
            "display": null,
            "left": null
          }
        },
        "ded3aa303c0549678dcd38f5c2ccc815": {
          "model_module": "@jupyter-widgets/controls",
          "model_name": "ProgressStyleModel",
          "model_module_version": "1.5.0",
          "state": {
            "_view_name": "StyleView",
            "_model_name": "ProgressStyleModel",
            "description_width": "",
            "_view_module": "@jupyter-widgets/base",
            "_model_module_version": "1.5.0",
            "_view_count": null,
            "_view_module_version": "1.2.0",
            "bar_color": null,
            "_model_module": "@jupyter-widgets/controls"
          }
        },
        "bac8d1077b514ba08ce4ee5e6d5b9ed9": {
          "model_module": "@jupyter-widgets/base",
          "model_name": "LayoutModel",
          "model_module_version": "1.2.0",
          "state": {
            "_view_name": "LayoutView",
            "grid_template_rows": null,
            "right": null,
            "justify_content": null,
            "_view_module": "@jupyter-widgets/base",
            "overflow": null,
            "_model_module_version": "1.2.0",
            "_view_count": null,
            "flex_flow": null,
            "width": null,
            "min_width": null,
            "border": null,
            "align_items": null,
            "bottom": null,
            "_model_module": "@jupyter-widgets/base",
            "top": null,
            "grid_column": null,
            "overflow_y": null,
            "overflow_x": null,
            "grid_auto_flow": null,
            "grid_area": null,
            "grid_template_columns": null,
            "flex": null,
            "_model_name": "LayoutModel",
            "justify_items": null,
            "grid_row": null,
            "max_height": null,
            "align_content": null,
            "visibility": null,
            "align_self": null,
            "height": null,
            "min_height": null,
            "padding": null,
            "grid_auto_rows": null,
            "grid_gap": null,
            "max_width": null,
            "order": null,
            "_view_module_version": "1.2.0",
            "grid_template_areas": null,
            "object_position": null,
            "object_fit": null,
            "grid_auto_columns": null,
            "margin": null,
            "display": null,
            "left": null
          }
        },
        "1c6069c23d2642018ce688290ab9992c": {
          "model_module": "@jupyter-widgets/controls",
          "model_name": "DescriptionStyleModel",
          "model_module_version": "1.5.0",
          "state": {
            "_view_name": "StyleView",
            "_model_name": "DescriptionStyleModel",
            "description_width": "",
            "_view_module": "@jupyter-widgets/base",
            "_model_module_version": "1.5.0",
            "_view_count": null,
            "_view_module_version": "1.2.0",
            "_model_module": "@jupyter-widgets/controls"
          }
        },
        "451843560dbe4b4ba77badf013020f7c": {
          "model_module": "@jupyter-widgets/base",
          "model_name": "LayoutModel",
          "model_module_version": "1.2.0",
          "state": {
            "_view_name": "LayoutView",
            "grid_template_rows": null,
            "right": null,
            "justify_content": null,
            "_view_module": "@jupyter-widgets/base",
            "overflow": null,
            "_model_module_version": "1.2.0",
            "_view_count": null,
            "flex_flow": null,
            "width": null,
            "min_width": null,
            "border": null,
            "align_items": null,
            "bottom": null,
            "_model_module": "@jupyter-widgets/base",
            "top": null,
            "grid_column": null,
            "overflow_y": null,
            "overflow_x": null,
            "grid_auto_flow": null,
            "grid_area": null,
            "grid_template_columns": null,
            "flex": null,
            "_model_name": "LayoutModel",
            "justify_items": null,
            "grid_row": null,
            "max_height": null,
            "align_content": null,
            "visibility": null,
            "align_self": null,
            "height": null,
            "min_height": null,
            "padding": null,
            "grid_auto_rows": null,
            "grid_gap": null,
            "max_width": null,
            "order": null,
            "_view_module_version": "1.2.0",
            "grid_template_areas": null,
            "object_position": null,
            "object_fit": null,
            "grid_auto_columns": null,
            "margin": null,
            "display": null,
            "left": null
          }
        },
        "cf17532c929046319bd2830d5582d3f1": {
          "model_module": "@jupyter-widgets/controls",
          "model_name": "HBoxModel",
          "model_module_version": "1.5.0",
          "state": {
            "_view_name": "HBoxView",
            "_dom_classes": [],
            "_model_name": "HBoxModel",
            "_view_module": "@jupyter-widgets/controls",
            "_model_module_version": "1.5.0",
            "_view_count": null,
            "_view_module_version": "1.5.0",
            "box_style": "",
            "layout": "IPY_MODEL_bfd9f4e009724c6783be50196f98e557",
            "_model_module": "@jupyter-widgets/controls",
            "children": [
              "IPY_MODEL_96f1385770a740f590613e98cbd2c435",
              "IPY_MODEL_1bb0a6e9d6334ea798efc105ec7c4250",
              "IPY_MODEL_546a9562c02a432c80deaa1b8d6dcbae"
            ]
          }
        },
        "bfd9f4e009724c6783be50196f98e557": {
          "model_module": "@jupyter-widgets/base",
          "model_name": "LayoutModel",
          "model_module_version": "1.2.0",
          "state": {
            "_view_name": "LayoutView",
            "grid_template_rows": null,
            "right": null,
            "justify_content": null,
            "_view_module": "@jupyter-widgets/base",
            "overflow": null,
            "_model_module_version": "1.2.0",
            "_view_count": null,
            "flex_flow": null,
            "width": null,
            "min_width": null,
            "border": null,
            "align_items": null,
            "bottom": null,
            "_model_module": "@jupyter-widgets/base",
            "top": null,
            "grid_column": null,
            "overflow_y": null,
            "overflow_x": null,
            "grid_auto_flow": null,
            "grid_area": null,
            "grid_template_columns": null,
            "flex": null,
            "_model_name": "LayoutModel",
            "justify_items": null,
            "grid_row": null,
            "max_height": null,
            "align_content": null,
            "visibility": null,
            "align_self": null,
            "height": null,
            "min_height": null,
            "padding": null,
            "grid_auto_rows": null,
            "grid_gap": null,
            "max_width": null,
            "order": null,
            "_view_module_version": "1.2.0",
            "grid_template_areas": null,
            "object_position": null,
            "object_fit": null,
            "grid_auto_columns": null,
            "margin": null,
            "display": null,
            "left": null
          }
        },
        "96f1385770a740f590613e98cbd2c435": {
          "model_module": "@jupyter-widgets/controls",
          "model_name": "HTMLModel",
          "model_module_version": "1.5.0",
          "state": {
            "_view_name": "HTMLView",
            "style": "IPY_MODEL_1c9ec0662d2640008be479ba99688fce",
            "_dom_classes": [],
            "description": "",
            "_model_name": "HTMLModel",
            "placeholder": "​",
            "_view_module": "@jupyter-widgets/controls",
            "_model_module_version": "1.5.0",
            "value": "",
            "_view_count": null,
            "_view_module_version": "1.5.0",
            "description_tooltip": null,
            "_model_module": "@jupyter-widgets/controls",
            "layout": "IPY_MODEL_78e68bea7a35447c8b67a4579b726544"
          }
        },
        "1bb0a6e9d6334ea798efc105ec7c4250": {
          "model_module": "@jupyter-widgets/controls",
          "model_name": "FloatProgressModel",
          "model_module_version": "1.5.0",
          "state": {
            "_view_name": "ProgressView",
            "style": "IPY_MODEL_97386349b655485ab822a1adda530ffe",
            "_dom_classes": [],
            "description": "",
            "_model_name": "FloatProgressModel",
            "bar_style": "success",
            "max": 4542,
            "_view_module": "@jupyter-widgets/controls",
            "_model_module_version": "1.5.0",
            "value": 4542,
            "_view_count": null,
            "_view_module_version": "1.5.0",
            "orientation": "horizontal",
            "min": 0,
            "description_tooltip": null,
            "_model_module": "@jupyter-widgets/controls",
            "layout": "IPY_MODEL_7fee40cd39e946abb01b28b06efac773"
          }
        },
        "546a9562c02a432c80deaa1b8d6dcbae": {
          "model_module": "@jupyter-widgets/controls",
          "model_name": "HTMLModel",
          "model_module_version": "1.5.0",
          "state": {
            "_view_name": "HTMLView",
            "style": "IPY_MODEL_9ed08d4241864895a1151f9800a50e27",
            "_dom_classes": [],
            "description": "",
            "_model_name": "HTMLModel",
            "placeholder": "​",
            "_view_module": "@jupyter-widgets/controls",
            "_model_module_version": "1.5.0",
            "value": " 5120/? [00:00&lt;00:00, 180785.92it/s]",
            "_view_count": null,
            "_view_module_version": "1.5.0",
            "description_tooltip": null,
            "_model_module": "@jupyter-widgets/controls",
            "layout": "IPY_MODEL_2e01413eb0a440f7bdf82e1527a66e3b"
          }
        },
        "1c9ec0662d2640008be479ba99688fce": {
          "model_module": "@jupyter-widgets/controls",
          "model_name": "DescriptionStyleModel",
          "model_module_version": "1.5.0",
          "state": {
            "_view_name": "StyleView",
            "_model_name": "DescriptionStyleModel",
            "description_width": "",
            "_view_module": "@jupyter-widgets/base",
            "_model_module_version": "1.5.0",
            "_view_count": null,
            "_view_module_version": "1.2.0",
            "_model_module": "@jupyter-widgets/controls"
          }
        },
        "78e68bea7a35447c8b67a4579b726544": {
          "model_module": "@jupyter-widgets/base",
          "model_name": "LayoutModel",
          "model_module_version": "1.2.0",
          "state": {
            "_view_name": "LayoutView",
            "grid_template_rows": null,
            "right": null,
            "justify_content": null,
            "_view_module": "@jupyter-widgets/base",
            "overflow": null,
            "_model_module_version": "1.2.0",
            "_view_count": null,
            "flex_flow": null,
            "width": null,
            "min_width": null,
            "border": null,
            "align_items": null,
            "bottom": null,
            "_model_module": "@jupyter-widgets/base",
            "top": null,
            "grid_column": null,
            "overflow_y": null,
            "overflow_x": null,
            "grid_auto_flow": null,
            "grid_area": null,
            "grid_template_columns": null,
            "flex": null,
            "_model_name": "LayoutModel",
            "justify_items": null,
            "grid_row": null,
            "max_height": null,
            "align_content": null,
            "visibility": null,
            "align_self": null,
            "height": null,
            "min_height": null,
            "padding": null,
            "grid_auto_rows": null,
            "grid_gap": null,
            "max_width": null,
            "order": null,
            "_view_module_version": "1.2.0",
            "grid_template_areas": null,
            "object_position": null,
            "object_fit": null,
            "grid_auto_columns": null,
            "margin": null,
            "display": null,
            "left": null
          }
        },
        "97386349b655485ab822a1adda530ffe": {
          "model_module": "@jupyter-widgets/controls",
          "model_name": "ProgressStyleModel",
          "model_module_version": "1.5.0",
          "state": {
            "_view_name": "StyleView",
            "_model_name": "ProgressStyleModel",
            "description_width": "",
            "_view_module": "@jupyter-widgets/base",
            "_model_module_version": "1.5.0",
            "_view_count": null,
            "_view_module_version": "1.2.0",
            "bar_color": null,
            "_model_module": "@jupyter-widgets/controls"
          }
        },
        "7fee40cd39e946abb01b28b06efac773": {
          "model_module": "@jupyter-widgets/base",
          "model_name": "LayoutModel",
          "model_module_version": "1.2.0",
          "state": {
            "_view_name": "LayoutView",
            "grid_template_rows": null,
            "right": null,
            "justify_content": null,
            "_view_module": "@jupyter-widgets/base",
            "overflow": null,
            "_model_module_version": "1.2.0",
            "_view_count": null,
            "flex_flow": null,
            "width": null,
            "min_width": null,
            "border": null,
            "align_items": null,
            "bottom": null,
            "_model_module": "@jupyter-widgets/base",
            "top": null,
            "grid_column": null,
            "overflow_y": null,
            "overflow_x": null,
            "grid_auto_flow": null,
            "grid_area": null,
            "grid_template_columns": null,
            "flex": null,
            "_model_name": "LayoutModel",
            "justify_items": null,
            "grid_row": null,
            "max_height": null,
            "align_content": null,
            "visibility": null,
            "align_self": null,
            "height": null,
            "min_height": null,
            "padding": null,
            "grid_auto_rows": null,
            "grid_gap": null,
            "max_width": null,
            "order": null,
            "_view_module_version": "1.2.0",
            "grid_template_areas": null,
            "object_position": null,
            "object_fit": null,
            "grid_auto_columns": null,
            "margin": null,
            "display": null,
            "left": null
          }
        },
        "9ed08d4241864895a1151f9800a50e27": {
          "model_module": "@jupyter-widgets/controls",
          "model_name": "DescriptionStyleModel",
          "model_module_version": "1.5.0",
          "state": {
            "_view_name": "StyleView",
            "_model_name": "DescriptionStyleModel",
            "description_width": "",
            "_view_module": "@jupyter-widgets/base",
            "_model_module_version": "1.5.0",
            "_view_count": null,
            "_view_module_version": "1.2.0",
            "_model_module": "@jupyter-widgets/controls"
          }
        },
        "2e01413eb0a440f7bdf82e1527a66e3b": {
          "model_module": "@jupyter-widgets/base",
          "model_name": "LayoutModel",
          "model_module_version": "1.2.0",
          "state": {
            "_view_name": "LayoutView",
            "grid_template_rows": null,
            "right": null,
            "justify_content": null,
            "_view_module": "@jupyter-widgets/base",
            "overflow": null,
            "_model_module_version": "1.2.0",
            "_view_count": null,
            "flex_flow": null,
            "width": null,
            "min_width": null,
            "border": null,
            "align_items": null,
            "bottom": null,
            "_model_module": "@jupyter-widgets/base",
            "top": null,
            "grid_column": null,
            "overflow_y": null,
            "overflow_x": null,
            "grid_auto_flow": null,
            "grid_area": null,
            "grid_template_columns": null,
            "flex": null,
            "_model_name": "LayoutModel",
            "justify_items": null,
            "grid_row": null,
            "max_height": null,
            "align_content": null,
            "visibility": null,
            "align_self": null,
            "height": null,
            "min_height": null,
            "padding": null,
            "grid_auto_rows": null,
            "grid_gap": null,
            "max_width": null,
            "order": null,
            "_view_module_version": "1.2.0",
            "grid_template_areas": null,
            "object_position": null,
            "object_fit": null,
            "grid_auto_columns": null,
            "margin": null,
            "display": null,
            "left": null
          }
        }
      }
    }
  },
  "cells": [
    {
      "cell_type": "markdown",
      "metadata": {
        "id": "view-in-github",
        "colab_type": "text"
      },
      "source": [
        "<a href=\"https://colab.research.google.com/github/pulkit22022000/Digit-Generation-using-GAN/blob/main/GAN.ipynb\" target=\"_parent\"><img src=\"https://colab.research.google.com/assets/colab-badge.svg\" alt=\"Open In Colab\"/></a>"
      ]
    },
    {
      "cell_type": "markdown",
      "metadata": {
        "id": "cvC--M8fuw_0"
      },
      "source": [
        "# **Generative** **Adversarial** **Network**"
      ]
    },
    {
      "cell_type": "markdown",
      "metadata": {
        "id": "fXt3u_Rmu3hp"
      },
      "source": [
        "*Generative* *Adversarial* *Networks* (GANs) are algorithmic architectures that use two neural networks, pitting one against the other (thus the “adversarial”) in order to generate new, synthetic instances of data that can pass for real data. They are used widely in image generation, video generation and voice generation.\n",
        "\n",
        "GANs were introduced in a [paper](https://arxiv.org/abs/1406.2661) by Ian Goodfellow and other researchers at the University of Montreal, including Yoshua Bengio, in 2014.\n",
        "\n",
        "They proposed a new framework for estimating generative models via an adversarial process, in which we simultaneously train two models: a generative model G that captures the data distribution, and a discriminative model D that estimates the probability that a sample came from the training data rather than G. The training procedure for G is to maximize the probability of D making a mistake. This framework corresponds to a minimax two-player game.\n",
        "\n",
        "The idea behind GANs is that you have two networks, a generator 𝐺 and a discriminator 𝐷 , competing against each other. The generator makes \"fake\" data to pass to the discriminator. The discriminator also sees real training data and predicts if the data it's received is real or fake.\n",
        "\n",
        "\n",
        "1.   The generator is trained to fool the discriminator, it wants to output data that looks as close as possible to real, training data.\n",
        "2.   The discriminator is a classifier that is trained to figure out which data is real and which is fake.\n",
        "\n",
        "What ends up happening is that the generator learns to make data that is indistinguishable from real data to the discriminator.\n",
        "\n",
        "<img src=\"https://raw.githubusercontent.com/udacity/deep-learning-v2-pytorch/2d7db1c2bb326c3bad4a74f1272987ade84075ef/gan-mnist/assets/gan_pipeline.png\" alt=\"image info\" />\n",
        "\n",
        "The general structure of a GAN is shown in the diagram above, using MNIST images as data. The latent sample is a random vector that the generator uses to construct its fake images. This is often called a latent vector and that vector space is called latent space. As the generator trains, it figures out how to map latent vectors to recognizable images that can fool the discriminator.\n",
        "\n",
        "Before starting, first let us see the Steps a GAN takes:\n",
        "\n",
        "\n",
        "1.   The generator takes in random numbers and returns an image.\n",
        "2.   This generated image is fed into the discriminator alongside a stream of images taken from the actual, ground- truth dataset.\n",
        "3. The discriminator takes in both real and fake images and returns probabilities, a number between 0 and 1, with 1 representing a prediction of authenticity and 0 representing fake.\n",
        "\n",
        "So you have a double feedback loop:\n",
        "\n",
        "\n",
        "*   The discriminator is in a feedback loop with the ground truth of the images, which we know.\n",
        "*   The generator is in a feedback loop with the discriminator.\n",
        "\n",
        "In this notebook, we'll be building a generative adversarial network (GAN) trained on the MNIST dataset, through which we'll be able to generate new handwritten digits!\n",
        "\n",
        "\n",
        "\n",
        "\n",
        "\n"
      ]
    },
    {
      "cell_type": "code",
      "metadata": {
        "id": "8ky_Ab-TyVcl"
      },
      "source": [
        "%matplotlib inline\n",
        "\n",
        "import numpy as np\n",
        "import torch\n",
        "import matplotlib.pyplot as plt"
      ],
      "execution_count": 1,
      "outputs": []
    },
    {
      "cell_type": "code",
      "metadata": {
        "colab": {
          "base_uri": "https://localhost:8080/",
          "height": 477,
          "referenced_widgets": [
            "00a7a79f95ab49c49c32263e91bb91c3",
            "685f80fe95a8470ba0d8ac232aefde48",
            "53112aee574b460681e590d08bf47a06",
            "bd91a89c904c422db4b7484d5cd51bbe",
            "8bc909a57aaa4be4b993f546c3b212e3",
            "5d9d1326a8fb4cc8b89b10a432b25476",
            "33f8f13c0ca24f75b66db9713ab021b1",
            "8f06f04e92814ba9b41fed2ff28a093a",
            "1f07d877a241466989b84f7308e2cf80",
            "3b818fd20661439797657386633c4587",
            "229c5ee18ed54279820b4f52e86a8efc",
            "13035fb7eb514554be2f366e0b400ef5",
            "98c608da1c7242d9909602d2c8fe964b",
            "f8ed1d3917e14ecba785bb75cb84f919",
            "1f63a7ab3d2b401e8aa5fdee50df5812",
            "5a771ada929741c88402007552082a94",
            "0d4e1ad7fcac4d23b230dfaf310cfd00",
            "4b1ca081fd1d4fd09ca46a9cc3dc4087",
            "946b7aa3523741d1b002efcfafd6c339",
            "452520295dd241bf91c7009927bb147d",
            "b09723461b4240c9a3386698bf75cb2b",
            "a15daa7fa8a24fc9a11c1cba2a507469",
            "4ba6eb4329374ed48299ed5ac176fc6a",
            "405006208732426ebb4f0f387aab12cb",
            "7966e053f46c4b028a822d41fbd49eb2",
            "058f5606c8d04e839261f79daa920f48",
            "37b9ccffeb5241fd9a1c5c32cf987a13",
            "d8ddb86aa4b84eb587f3ac5a7f623d5e",
            "98c6ec29a4784009999cf85be92357ef",
            "ded3aa303c0549678dcd38f5c2ccc815",
            "bac8d1077b514ba08ce4ee5e6d5b9ed9",
            "1c6069c23d2642018ce688290ab9992c",
            "451843560dbe4b4ba77badf013020f7c",
            "cf17532c929046319bd2830d5582d3f1",
            "bfd9f4e009724c6783be50196f98e557",
            "96f1385770a740f590613e98cbd2c435",
            "1bb0a6e9d6334ea798efc105ec7c4250",
            "546a9562c02a432c80deaa1b8d6dcbae",
            "1c9ec0662d2640008be479ba99688fce",
            "78e68bea7a35447c8b67a4579b726544",
            "97386349b655485ab822a1adda530ffe",
            "7fee40cd39e946abb01b28b06efac773",
            "9ed08d4241864895a1151f9800a50e27",
            "2e01413eb0a440f7bdf82e1527a66e3b"
          ]
        },
        "id": "p66bruYFyhMD",
        "outputId": "9c8fb563-ca93-40f5-b27d-9b91e431449e"
      },
      "source": [
        "from torchvision import datasets\n",
        "import torchvision.transforms as transforms\n",
        "\n",
        "# number of subprocesses to use for data loading\n",
        "num_workers = 0\n",
        "# how many samples per batch to load\n",
        "batch_size = 64\n",
        "\n",
        "# convert data to torch.FloatTensor\n",
        "transform = transforms.ToTensor()\n",
        "\n",
        "# get the training datasets\n",
        "train_data = datasets.MNIST(root='data', train=True,\n",
        "                                   download=True, transform=transform)\n",
        "\n",
        "# prepare data loader\n",
        "train_loader = torch.utils.data.DataLoader(train_data, batch_size=batch_size,\n",
        "                                           num_workers=num_workers)"
      ],
      "execution_count": 2,
      "outputs": [
        {
          "output_type": "stream",
          "text": [
            "Downloading http://yann.lecun.com/exdb/mnist/train-images-idx3-ubyte.gz\n",
            "Downloading http://yann.lecun.com/exdb/mnist/train-images-idx3-ubyte.gz to data/MNIST/raw/train-images-idx3-ubyte.gz\n"
          ],
          "name": "stdout"
        },
        {
          "output_type": "display_data",
          "data": {
            "application/vnd.jupyter.widget-view+json": {
              "model_id": "00a7a79f95ab49c49c32263e91bb91c3",
              "version_minor": 0,
              "version_major": 2
            },
            "text/plain": [
              "  0%|          | 0/9912422 [00:00<?, ?it/s]"
            ]
          },
          "metadata": {
            "tags": []
          }
        },
        {
          "output_type": "stream",
          "text": [
            "Extracting data/MNIST/raw/train-images-idx3-ubyte.gz to data/MNIST/raw\n",
            "\n",
            "Downloading http://yann.lecun.com/exdb/mnist/train-labels-idx1-ubyte.gz\n",
            "Downloading http://yann.lecun.com/exdb/mnist/train-labels-idx1-ubyte.gz to data/MNIST/raw/train-labels-idx1-ubyte.gz\n"
          ],
          "name": "stdout"
        },
        {
          "output_type": "display_data",
          "data": {
            "application/vnd.jupyter.widget-view+json": {
              "model_id": "13035fb7eb514554be2f366e0b400ef5",
              "version_minor": 0,
              "version_major": 2
            },
            "text/plain": [
              "  0%|          | 0/28881 [00:00<?, ?it/s]"
            ]
          },
          "metadata": {
            "tags": []
          }
        },
        {
          "output_type": "stream",
          "text": [
            "Extracting data/MNIST/raw/train-labels-idx1-ubyte.gz to data/MNIST/raw\n",
            "\n",
            "Downloading http://yann.lecun.com/exdb/mnist/t10k-images-idx3-ubyte.gz\n",
            "Downloading http://yann.lecun.com/exdb/mnist/t10k-images-idx3-ubyte.gz to data/MNIST/raw/t10k-images-idx3-ubyte.gz\n"
          ],
          "name": "stdout"
        },
        {
          "output_type": "display_data",
          "data": {
            "application/vnd.jupyter.widget-view+json": {
              "model_id": "4ba6eb4329374ed48299ed5ac176fc6a",
              "version_minor": 0,
              "version_major": 2
            },
            "text/plain": [
              "  0%|          | 0/1648877 [00:00<?, ?it/s]"
            ]
          },
          "metadata": {
            "tags": []
          }
        },
        {
          "output_type": "stream",
          "text": [
            "Extracting data/MNIST/raw/t10k-images-idx3-ubyte.gz to data/MNIST/raw\n",
            "\n",
            "Downloading http://yann.lecun.com/exdb/mnist/t10k-labels-idx1-ubyte.gz\n",
            "Downloading http://yann.lecun.com/exdb/mnist/t10k-labels-idx1-ubyte.gz to data/MNIST/raw/t10k-labels-idx1-ubyte.gz\n"
          ],
          "name": "stdout"
        },
        {
          "output_type": "display_data",
          "data": {
            "application/vnd.jupyter.widget-view+json": {
              "model_id": "cf17532c929046319bd2830d5582d3f1",
              "version_minor": 0,
              "version_major": 2
            },
            "text/plain": [
              "  0%|          | 0/4542 [00:00<?, ?it/s]"
            ]
          },
          "metadata": {
            "tags": []
          }
        },
        {
          "output_type": "stream",
          "text": [
            "Extracting data/MNIST/raw/t10k-labels-idx1-ubyte.gz to data/MNIST/raw\n",
            "\n"
          ],
          "name": "stdout"
        },
        {
          "output_type": "stream",
          "text": [
            "/usr/local/lib/python3.7/dist-packages/torchvision/datasets/mnist.py:498: UserWarning: The given NumPy array is not writeable, and PyTorch does not support non-writeable tensors. This means you can write to the underlying (supposedly non-writeable) NumPy array using the tensor. You may want to copy the array to protect its data or make it writeable before converting it to a tensor. This type of warning will be suppressed for the rest of this program. (Triggered internally at  /pytorch/torch/csrc/utils/tensor_numpy.cpp:180.)\n",
            "  return torch.from_numpy(parsed.astype(m[2], copy=False)).view(*s)\n"
          ],
          "name": "stderr"
        }
      ]
    },
    {
      "cell_type": "markdown",
      "metadata": {
        "id": "Laal7o8q0IVV"
      },
      "source": [
        "\n",
        "**Visualize** **the** **data**"
      ]
    },
    {
      "cell_type": "code",
      "metadata": {
        "colab": {
          "base_uri": "https://localhost:8080/",
          "height": 229
        },
        "id": "yihVCeTz0L3a",
        "outputId": "78b1da34-7a09-46cc-a6a3-b7f2b3ccc5a0"
      },
      "source": [
        "# obtain one batch of training images\n",
        "dataiter = iter(train_loader)\n",
        "images, labels = dataiter.next()\n",
        "images = images.numpy()\n",
        "\n",
        "# get one image from the batch\n",
        "img = np.squeeze(images[0])\n",
        "\n",
        "fig = plt.figure(figsize = (3,3)) \n",
        "ax = fig.add_subplot(111)\n",
        "ax.imshow(img, cmap='gray')"
      ],
      "execution_count": 3,
      "outputs": [
        {
          "output_type": "execute_result",
          "data": {
            "text/plain": [
              "<matplotlib.image.AxesImage at 0x7f58d7c4a9d0>"
            ]
          },
          "metadata": {
            "tags": []
          },
          "execution_count": 3
        },
        {
          "output_type": "display_data",
          "data": {
            "image/png": "[encoded data removed]",
            "text/plain": [
              "<Figure size 216x216 with 1 Axes>"
            ]
          },
          "metadata": {
            "tags": [],
            "needs_background": "light"
          }
        }
      ]
    },
    {
      "cell_type": "markdown",
      "metadata": {
        "id": "YbtXESVm0dSi"
      },
      "source": [
        "# **Define the Model**\n",
        "\n",
        "A GAN is comprised of two adversarial networks, a discriminator and a generator."
      ]
    },
    {
      "cell_type": "markdown",
      "metadata": {
        "id": "EQRsrsxZ0sIY"
      },
      "source": [
        "\n",
        "**Discriminator**\n",
        "\n",
        "The discriminator network is going to be a pretty typical linear classifier. To make this network a universal function approximator, we'll need at least one hidden layer, and these hidden layers should have one key attribute:\n",
        "\n",
        "> All hidden layers will have a Leaky ReLu activation function applied to their outputs.\n",
        "\n",
        "<img src=\"https://github.com/udacity/deep-learning-v2-pytorch/raw/e41a2fdf50155f8753bf83ed1637ba0d6670b1fa/gan-mnist/assets/gan_network.png\" alt=\"image info\" />\n",
        "\n",
        "**Leaky ReLu**\n",
        "\n",
        "We should use a leaky ReLU to allow gradients to flow backwards through the layer unimpeded. A leaky ReLU is like a normal ReLU, except that there is a small non-zero output for negative input values.\n",
        "\n",
        "<img src=\"https://github.com/udacity/deep-learning-v2-pytorch/raw/e41a2fdf50155f8753bf83ed1637ba0d6670b1fa/gan-mnist/assets/leaky_relu.png\"\n",
        "alt=\"img info\"/>\n",
        "\n",
        "**Sigmoid Output**\n",
        "\n",
        "We'll also take the approach of using a more numerically stable loss function on the outputs. Recall that we want the discriminator to output a value 0-1 indicating whether an image is *real* or *fake*.\n",
        "\n",
        "\n",
        "> We will ultimately use [BCEWithLogitsLoss](https://pytorch.org/docs/stable/nn.html#bcewithlogitsloss), which combines a sigmoid activation function and binary cross entropy loss in one function.\n",
        "\n",
        "So, our final output layer should not have any activation function applied to it.\n",
        "\n",
        "\n",
        "\n",
        "\n",
        "\n"
      ]
    },
    {
      "cell_type": "code",
      "metadata": {
        "id": "sDY_-tP227Z_"
      },
      "source": [
        "import torch.nn as nn\n",
        "import torch.nn.functional as F\n",
        "\n",
        "class Discriminator(nn.Module):\n",
        "\n",
        "    def __init__(self, input_size, hidden_dim, output_size):\n",
        "        super(Discriminator, self).__init__()\n",
        "        \n",
        "        # define hidden linear layers\n",
        "        self.fc1 = nn.Linear(input_size, hidden_dim*4)\n",
        "        self.fc2 = nn.Linear(hidden_dim*4, hidden_dim*2)\n",
        "        self.fc3 = nn.Linear(hidden_dim*2, hidden_dim)\n",
        "        \n",
        "        # final fully-connected layer\n",
        "        self.fc4 = nn.Linear(hidden_dim, output_size)\n",
        "        \n",
        "        # dropout layer \n",
        "        self.dropout = nn.Dropout(0.3)\n",
        "        \n",
        "        \n",
        "    def forward(self, x):\n",
        "        # flatten image\n",
        "        x = x.view(-1, 28*28)\n",
        "        # all hidden layers\n",
        "        x = F.leaky_relu(self.fc1(x), 0.2) # (input, negative_slope=0.2)\n",
        "        x = self.dropout(x)\n",
        "        x = F.leaky_relu(self.fc2(x), 0.2)\n",
        "        x = self.dropout(x)\n",
        "        x = F.leaky_relu(self.fc3(x), 0.2)\n",
        "        x = self.dropout(x)\n",
        "        # final layer\n",
        "        out = self.fc4(x)\n",
        "\n",
        "        return out"
      ],
      "execution_count": 4,
      "outputs": []
    },
    {
      "cell_type": "markdown",
      "metadata": {
        "id": "SzEXSOZM3Cvg"
      },
      "source": [
        "**GENERATOR**\n",
        "\n",
        "The generator network will be almost exactly the same as the discriminator network, except that we're applying a tanh activation function to our output layer.\n",
        "\n",
        "**tanh** **Output**\n",
        "\n",
        "The generator has been found to perform the best with $tanh$ for the generator output, which scales the output to be between -1 and 1, instead of 0 and 1.\n",
        "\n",
        "<img src=\"https://github.com/udacity/deep-learning-v2-pytorch/raw/e41a2fdf50155f8753bf83ed1637ba0d6670b1fa/gan-mnist/assets/tanh_fn.png\" alt text=\"temp\"/>\n",
        "\n",
        "Recall that we also want these outputs to be comparable to the real input pixel values, which are read in as normalized values between 0 and 1.\n",
        "\n",
        "\n",
        "\n",
        "> So, we'll also have to **scale our real input images to have pixel values between -1 and 1** when we train the discriminator.\n",
        "\n",
        "We'll do this in the training loop, later on.\n",
        "\n"
      ]
    },
    {
      "cell_type": "code",
      "metadata": {
        "id": "0OKnstTk4Pw5"
      },
      "source": [
        "class Generator(nn.Module):\n",
        "\n",
        "    def __init__(self, input_size, hidden_dim, output_size):\n",
        "        super(Generator, self).__init__()\n",
        "        \n",
        "        # define hidden linear layers\n",
        "        self.fc1 = nn.Linear(input_size, hidden_dim)\n",
        "        self.fc2 = nn.Linear(hidden_dim, hidden_dim*2)\n",
        "        self.fc3 = nn.Linear(hidden_dim*2, hidden_dim*4)\n",
        "        \n",
        "        # final fully-connected layer\n",
        "        self.fc4 = nn.Linear(hidden_dim*4, output_size)\n",
        "        \n",
        "        # dropout layer \n",
        "        self.dropout = nn.Dropout(0.3)\n",
        "\n",
        "    def forward(self, x):\n",
        "        # all hidden layers\n",
        "        x = F.leaky_relu(self.fc1(x), 0.2) # (input, negative_slope=0.2)\n",
        "        x = self.dropout(x)\n",
        "        x = F.leaky_relu(self.fc2(x), 0.2)\n",
        "        x = self.dropout(x)\n",
        "        x = F.leaky_relu(self.fc3(x), 0.2)\n",
        "        x = self.dropout(x)\n",
        "        # final layer with tanh applied\n",
        "        out = F.tanh(self.fc4(x))\n",
        "\n",
        "        return out"
      ],
      "execution_count": 5,
      "outputs": []
    },
    {
      "cell_type": "markdown",
      "metadata": {
        "id": "mZePBd3l4YYa"
      },
      "source": [
        "**Model** **Hyperparameters**"
      ]
    },
    {
      "cell_type": "code",
      "metadata": {
        "id": "GTwwVy_w4iim"
      },
      "source": [
        "# Discriminator hyperparameters\n",
        "\n",
        "# Size of input image to discriminator (28*28)\n",
        "input_size = 784\n",
        "# Size of discriminator output (real or fake)\n",
        "d_output_size = 1\n",
        "# Size of last hidden layer in the discriminator\n",
        "d_hidden_size = 32\n",
        "\n",
        "# Generator hyperparameters\n",
        "\n",
        "# Size of latent vector to give to generator\n",
        "z_size = 100\n",
        "# Size of discriminator output (generated image)\n",
        "g_output_size = 784\n",
        "# Size of first hidden layer in the generator\n",
        "g_hidden_size = 32"
      ],
      "execution_count": 8,
      "outputs": []
    },
    {
      "cell_type": "markdown",
      "metadata": {
        "id": "nNLBmEiM4t8Q"
      },
      "source": [
        "**Build** **Complete** **Network**\n",
        "\n",
        "Now we're instantiating the discriminator and generator from the classes defined above. Make sure you've passed in the correct input arguments."
      ]
    },
    {
      "cell_type": "code",
      "metadata": {
        "colab": {
          "base_uri": "https://localhost:8080/"
        },
        "id": "-LwEuefG4zYq",
        "outputId": "b4a9bbf9-2b64-4335-9afb-2df0d895a206"
      },
      "source": [
        "# instantiate discriminator and generator\n",
        "D = Discriminator(input_size, d_hidden_size, d_output_size)\n",
        "G = Generator(z_size, g_hidden_size, g_output_size)\n",
        "\n",
        "# check that they are as you expect\n",
        "print(D)\n",
        "print()\n",
        "print(G)"
      ],
      "execution_count": 9,
      "outputs": [
        {
          "output_type": "stream",
          "text": [
            "Discriminator(\n",
            "  (fc1): Linear(in_features=784, out_features=128, bias=True)\n",
            "  (fc2): Linear(in_features=128, out_features=64, bias=True)\n",
            "  (fc3): Linear(in_features=64, out_features=32, bias=True)\n",
            "  (fc4): Linear(in_features=32, out_features=1, bias=True)\n",
            "  (dropout): Dropout(p=0.3, inplace=False)\n",
            ")\n",
            "\n",
            "Generator(\n",
            "  (fc1): Linear(in_features=100, out_features=32, bias=True)\n",
            "  (fc2): Linear(in_features=32, out_features=64, bias=True)\n",
            "  (fc3): Linear(in_features=64, out_features=128, bias=True)\n",
            "  (fc4): Linear(in_features=128, out_features=784, bias=True)\n",
            "  (dropout): Dropout(p=0.3, inplace=False)\n",
            ")\n"
          ],
          "name": "stdout"
        }
      ]
    },
    {
      "cell_type": "markdown",
      "metadata": {
        "id": "_NeoN_kk5EIU"
      },
      "source": [
        "**Discriminator** **and** **Generator** **Losses**\n",
        "\n",
        "Now we need to calculate the losses.\n",
        "\n",
        "\n",
        "**Discriminator** **Losses:**\n",
        "\n",
        "> 1. For the discriminator, the total loss is the sum of the losses for real and fake images, *d_loss = d_real_loss + d_fake_loss*.\n",
        "\n",
        "> 2. Remember that we want the discriminator to output 1 for real images and 0 for fake images, so we need to set up the losses to reflect that.\n",
        "\n",
        "The losses will by binary cross entropy loss with logits, which we can get with *BCEWithLogitsLoss*. This combines a sigmoid activation function and and binary cross entropy loss in one function.\n",
        "\n",
        "For the real images, we want D(real_images) = 1. That is, we want the discriminator to classify the the real images with a label = 1, indicating that these are real. To help the discriminator generalize better, the labels are **reduced a bit from 1.0 to 0.9**. For this, we'll use the parameter smooth; if True, then we should smooth our labels. In PyTorch, this looks like labels = torch.ones(size) * 0.9\n",
        "\n",
        "The discriminator loss for the fake data is similar. We want D(fake_images) = 0, where the fake images are the generator output, *fake_images = G(z)*.\n",
        "\n",
        "\n",
        "**Generator Losses:**\n",
        "\n",
        "The generator loss will look similar only with flipped labels. The generator's goal is to get D(fake_images) = 1. In this case, the labels are flipped to represent that the generator is trying to fool the discriminator into thinking that the images it generates (fakes) are real!\n",
        "\n",
        "\n",
        "\n",
        "\n",
        "\n"
      ]
    },
    {
      "cell_type": "code",
      "metadata": {
        "id": "_Fw8287_6qLw"
      },
      "source": [
        "# Calculate losses\n",
        "def real_loss(D_out, smooth=False):\n",
        "    batch_size = D_out.size(0)\n",
        "    # label smoothing\n",
        "    if smooth:\n",
        "        # smooth, real labels = 0.9\n",
        "        labels = torch.ones(batch_size)*0.9\n",
        "    else:\n",
        "        labels = torch.ones(batch_size) # real labels = 1\n",
        "        \n",
        "    # numerically stable loss\n",
        "    criterion = nn.BCEWithLogitsLoss()\n",
        "    # calculate loss\n",
        "    loss = criterion(D_out.squeeze(), labels)\n",
        "    return loss\n",
        "\n",
        "def fake_loss(D_out):\n",
        "    batch_size = D_out.size(0)\n",
        "    labels = torch.zeros(batch_size) # fake labels = 0\n",
        "    criterion = nn.BCEWithLogitsLoss()\n",
        "    # calculate loss\n",
        "    loss = criterion(D_out.squeeze(), labels)\n",
        "    return loss"
      ],
      "execution_count": 10,
      "outputs": []
    },
    {
      "cell_type": "markdown",
      "metadata": {
        "id": "BXvJxB5D60Pj"
      },
      "source": [
        "**Optimizers**\n",
        "\n",
        "We want to update the generator and discriminator variables separately. So, we'll define two separate Adam optimizers.\n",
        "\n"
      ]
    },
    {
      "cell_type": "code",
      "metadata": {
        "id": "BSpBivlt68o0"
      },
      "source": [
        "import torch.optim as optim\n",
        "\n",
        "# Optimizers\n",
        "lr = 0.002\n",
        "\n",
        "# Create optimizers for the discriminator and generator\n",
        "d_optimizer = optim.Adam(D.parameters(), lr)\n",
        "g_optimizer = optim.Adam(G.parameters(), lr)"
      ],
      "execution_count": 11,
      "outputs": []
    },
    {
      "cell_type": "markdown",
      "metadata": {
        "id": "Yno_sQG47BeV"
      },
      "source": [
        "**TRAINING**\n",
        "\n",
        "Training will involve alternating between training the discriminator and the generator. We'll use our functions real_loss and fake_loss to help us calculate the discriminator losses in all of the following cases.\n",
        "\n",
        "**Discriminator Training**\n",
        "\n",
        "1. Compute the discriminator loss on real, training images.\n",
        "2. Generate fake images.\n",
        "3. Compute the discriminator loss on fake, generated images.\n",
        "4. Add up real and fake loss.\n",
        "5. Perform backpropagation + an optimization step to update the discriminator's weights.\n",
        "\n",
        "**Generator Training**\n",
        "\n",
        "1. Generate fake images.\n",
        "2. Compute the discriminator loss on fake images, using flipped labels!\n",
        "3. Perform backpropagation + an optimization step to update the generator's weights.\n",
        "\n",
        "**Saving Samples**\n",
        "\n",
        "As we train, we'll also print out some loss statistics and save some generated \"fake\" samples."
      ]
    },
    {
      "cell_type": "code",
      "metadata": {
        "colab": {
          "base_uri": "https://localhost:8080/"
        },
        "id": "rbec-NmV8B_y",
        "outputId": "144d0bcb-12a7-4b19-9683-66bc4b4fe97a"
      },
      "source": [
        "import pickle as pkl\n",
        "\n",
        "# training hyperparams\n",
        "num_epochs = 100\n",
        "\n",
        "# keep track of loss and generated, \"fake\" samples\n",
        "samples = []\n",
        "losses = []\n",
        "\n",
        "print_every = 400\n",
        "\n",
        "# Get some fixed data for sampling. These are images that are held\n",
        "# constant throughout training, and allow us to inspect the model's performance\n",
        "sample_size=16\n",
        "fixed_z = np.random.uniform(-1, 1, size=(sample_size, z_size))\n",
        "fixed_z = torch.from_numpy(fixed_z).float()\n",
        "\n",
        "# train the network\n",
        "D.train()\n",
        "G.train()\n",
        "for epoch in range(num_epochs):\n",
        "    \n",
        "    for batch_i, (real_images, _) in enumerate(train_loader):\n",
        "                \n",
        "        batch_size = real_images.size(0)\n",
        "        \n",
        "        ## Important rescaling step ## \n",
        "        real_images = real_images*2 - 1  # rescale input images from [0,1) to [-1, 1)\n",
        "        \n",
        "        # ============================================\n",
        "        #            TRAIN THE DISCRIMINATOR\n",
        "        # ============================================\n",
        "        \n",
        "        d_optimizer.zero_grad()\n",
        "        \n",
        "        # 1. Train with real images\n",
        "\n",
        "        # Compute the discriminator losses on real images \n",
        "        # smooth the real labels\n",
        "        D_real = D(real_images)\n",
        "        d_real_loss = real_loss(D_real, smooth=True)\n",
        "        \n",
        "        # 2. Train with fake images\n",
        "        \n",
        "        # Generate fake images\n",
        "        # gradients don't have to flow during this step\n",
        "        with torch.no_grad():\n",
        "            z = np.random.uniform(-1, 1, size=(batch_size, z_size))\n",
        "            z = torch.from_numpy(z).float()\n",
        "            fake_images = G(z)\n",
        "\n",
        "        # Compute the discriminator losses on fake images        \n",
        "        D_fake = D(fake_images)\n",
        "        d_fake_loss = fake_loss(D_fake)\n",
        "        \n",
        "        # add up loss and perform backprop\n",
        "        d_loss = d_real_loss + d_fake_loss\n",
        "        d_loss.backward()\n",
        "        d_optimizer.step()\n",
        "        \n",
        "        \n",
        "        # =========================================\n",
        "        #            TRAIN THE GENERATOR\n",
        "        # =========================================\n",
        "        g_optimizer.zero_grad()\n",
        "        \n",
        "        # 1. Train with fake images and flipped labels\n",
        "        \n",
        "        # Generate fake images\n",
        "        z = np.random.uniform(-1, 1, size=(batch_size, z_size))\n",
        "        z = torch.from_numpy(z).float()\n",
        "        fake_images = G(z)\n",
        "        \n",
        "        # Compute the discriminator losses on fake images \n",
        "        # using flipped labels!\n",
        "        D_fake = D(fake_images)\n",
        "        g_loss = real_loss(D_fake) # use real loss to flip labels\n",
        "        \n",
        "        # perform backprop\n",
        "        g_loss.backward()\n",
        "        g_optimizer.step()\n",
        "\n",
        "        # Print some loss stats\n",
        "        if batch_i % print_every == 0:\n",
        "            # print discriminator and generator loss\n",
        "            print('Epoch [{:5d}/{:5d}] | d_loss: {:6.4f} | g_loss: {:6.4f}'.format(\n",
        "                    epoch+1, num_epochs, d_loss.item(), g_loss.item()))\n",
        "\n",
        "    \n",
        "    ## AFTER EACH EPOCH##\n",
        "    # append discriminator loss and generator loss\n",
        "    losses.append((d_loss.item(), g_loss.item()))\n",
        "    \n",
        "    # generate and save sample, fake images\n",
        "    G.eval() # eval mode for generating samples\n",
        "    samples_z = G(fixed_z)\n",
        "    samples.append(samples_z)\n",
        "    G.train() # back to train mode\n",
        "\n",
        "\n",
        "# Save training generator samples\n",
        "with open('train_samples.pkl', 'wb') as f:\n",
        "    pkl.dump(samples, f)\n"
      ],
      "execution_count": 12,
      "outputs": [
        {
          "output_type": "stream",
          "text": [
            "/usr/local/lib/python3.7/dist-packages/torch/nn/functional.py:1794: UserWarning: nn.functional.tanh is deprecated. Use torch.tanh instead.\n",
            "  warnings.warn(\"nn.functional.tanh is deprecated. Use torch.tanh instead.\")\n"
          ],
          "name": "stderr"
        },
        {
          "output_type": "stream",
          "text": [
            "Epoch [    1/  100] | d_loss: 1.3733 | g_loss: 0.7579\n",
            "Epoch [    1/  100] | d_loss: 1.3223 | g_loss: 1.1033\n",
            "Epoch [    1/  100] | d_loss: 1.2298 | g_loss: 1.2861\n",
            "Epoch [    2/  100] | d_loss: 0.9110 | g_loss: 3.2477\n",
            "Epoch [    2/  100] | d_loss: 1.2726 | g_loss: 1.3558\n",
            "Epoch [    2/  100] | d_loss: 1.1453 | g_loss: 0.9675\n",
            "Epoch [    3/  100] | d_loss: 0.9538 | g_loss: 1.9455\n",
            "Epoch [    3/  100] | d_loss: 1.0860 | g_loss: 1.0237\n",
            "Epoch [    3/  100] | d_loss: 1.2966 | g_loss: 0.7425\n",
            "Epoch [    4/  100] | d_loss: 1.2898 | g_loss: 0.9736\n",
            "Epoch [    4/  100] | d_loss: 1.3029 | g_loss: 0.9510\n",
            "Epoch [    4/  100] | d_loss: 1.3598 | g_loss: 1.3156\n",
            "Epoch [    5/  100] | d_loss: 1.4033 | g_loss: 0.8493\n",
            "Epoch [    5/  100] | d_loss: 1.0563 | g_loss: 1.0783\n",
            "Epoch [    5/  100] | d_loss: 1.3806 | g_loss: 0.9133\n",
            "Epoch [    6/  100] | d_loss: 1.3357 | g_loss: 1.1761\n",
            "Epoch [    6/  100] | d_loss: 1.3414 | g_loss: 1.2502\n",
            "Epoch [    6/  100] | d_loss: 1.2321 | g_loss: 0.9794\n",
            "Epoch [    7/  100] | d_loss: 1.2915 | g_loss: 1.6399\n",
            "Epoch [    7/  100] | d_loss: 1.2449 | g_loss: 1.0312\n",
            "Epoch [    7/  100] | d_loss: 1.1809 | g_loss: 1.1858\n",
            "Epoch [    8/  100] | d_loss: 1.1371 | g_loss: 1.6485\n",
            "Epoch [    8/  100] | d_loss: 1.2142 | g_loss: 1.6817\n",
            "Epoch [    8/  100] | d_loss: 1.1594 | g_loss: 1.2146\n",
            "Epoch [    9/  100] | d_loss: 1.1165 | g_loss: 1.9350\n",
            "Epoch [    9/  100] | d_loss: 1.2232 | g_loss: 1.1624\n",
            "Epoch [    9/  100] | d_loss: 1.1848 | g_loss: 1.1508\n",
            "Epoch [   10/  100] | d_loss: 1.2162 | g_loss: 1.1911\n",
            "Epoch [   10/  100] | d_loss: 1.0818 | g_loss: 1.1944\n",
            "Epoch [   10/  100] | d_loss: 1.1805 | g_loss: 1.1838\n",
            "Epoch [   11/  100] | d_loss: 1.1664 | g_loss: 1.6689\n",
            "Epoch [   11/  100] | d_loss: 1.0083 | g_loss: 1.4028\n",
            "Epoch [   11/  100] | d_loss: 1.1447 | g_loss: 1.4301\n",
            "Epoch [   12/  100] | d_loss: 1.2026 | g_loss: 1.2902\n",
            "Epoch [   12/  100] | d_loss: 1.1006 | g_loss: 1.4806\n",
            "Epoch [   12/  100] | d_loss: 1.0199 | g_loss: 1.3175\n",
            "Epoch [   13/  100] | d_loss: 1.2844 | g_loss: 1.1421\n",
            "Epoch [   13/  100] | d_loss: 1.2509 | g_loss: 1.0819\n",
            "Epoch [   13/  100] | d_loss: 1.2805 | g_loss: 1.1363\n",
            "Epoch [   14/  100] | d_loss: 1.2022 | g_loss: 1.3001\n",
            "Epoch [   14/  100] | d_loss: 1.2337 | g_loss: 1.1371\n",
            "Epoch [   14/  100] | d_loss: 1.2119 | g_loss: 1.2591\n",
            "Epoch [   15/  100] | d_loss: 1.4170 | g_loss: 1.1443\n",
            "Epoch [   15/  100] | d_loss: 1.2949 | g_loss: 1.0262\n",
            "Epoch [   15/  100] | d_loss: 1.2543 | g_loss: 1.3022\n",
            "Epoch [   16/  100] | d_loss: 1.3130 | g_loss: 1.2407\n",
            "Epoch [   16/  100] | d_loss: 1.1889 | g_loss: 1.3241\n",
            "Epoch [   16/  100] | d_loss: 1.2565 | g_loss: 0.8825\n",
            "Epoch [   17/  100] | d_loss: 1.2438 | g_loss: 1.0174\n",
            "Epoch [   17/  100] | d_loss: 1.2515 | g_loss: 0.9586\n",
            "Epoch [   17/  100] | d_loss: 1.2715 | g_loss: 0.9521\n",
            "Epoch [   18/  100] | d_loss: 1.3214 | g_loss: 1.2312\n",
            "Epoch [   18/  100] | d_loss: 1.2518 | g_loss: 0.9722\n",
            "Epoch [   18/  100] | d_loss: 1.3530 | g_loss: 0.8943\n",
            "Epoch [   19/  100] | d_loss: 1.3722 | g_loss: 0.8427\n",
            "Epoch [   19/  100] | d_loss: 1.2700 | g_loss: 0.9344\n",
            "Epoch [   19/  100] | d_loss: 1.2186 | g_loss: 1.1887\n",
            "Epoch [   20/  100] | d_loss: 1.3163 | g_loss: 1.2777\n",
            "Epoch [   20/  100] | d_loss: 1.2455 | g_loss: 1.1771\n",
            "Epoch [   20/  100] | d_loss: 1.3062 | g_loss: 1.0336\n",
            "Epoch [   21/  100] | d_loss: 1.2921 | g_loss: 1.0722\n",
            "Epoch [   21/  100] | d_loss: 1.3570 | g_loss: 0.8478\n",
            "Epoch [   21/  100] | d_loss: 1.2757 | g_loss: 1.2840\n",
            "Epoch [   22/  100] | d_loss: 1.3112 | g_loss: 0.9929\n",
            "Epoch [   22/  100] | d_loss: 1.3191 | g_loss: 0.9842\n",
            "Epoch [   22/  100] | d_loss: 1.4108 | g_loss: 0.9249\n",
            "Epoch [   23/  100] | d_loss: 1.2182 | g_loss: 1.0175\n",
            "Epoch [   23/  100] | d_loss: 1.1940 | g_loss: 1.3042\n",
            "Epoch [   23/  100] | d_loss: 1.2317 | g_loss: 1.2185\n",
            "Epoch [   24/  100] | d_loss: 1.3539 | g_loss: 1.2156\n",
            "Epoch [   24/  100] | d_loss: 1.2395 | g_loss: 1.1442\n",
            "Epoch [   24/  100] | d_loss: 1.3048 | g_loss: 0.9422\n",
            "Epoch [   25/  100] | d_loss: 1.2625 | g_loss: 1.9565\n",
            "Epoch [   25/  100] | d_loss: 1.2540 | g_loss: 0.8275\n",
            "Epoch [   25/  100] | d_loss: 1.1965 | g_loss: 1.2603\n",
            "Epoch [   26/  100] | d_loss: 1.3634 | g_loss: 0.9554\n",
            "Epoch [   26/  100] | d_loss: 1.3318 | g_loss: 1.2281\n",
            "Epoch [   26/  100] | d_loss: 1.2790 | g_loss: 0.9317\n",
            "Epoch [   27/  100] | d_loss: 1.3221 | g_loss: 1.0237\n",
            "Epoch [   27/  100] | d_loss: 1.2034 | g_loss: 0.9509\n",
            "Epoch [   27/  100] | d_loss: 1.2423 | g_loss: 1.0689\n",
            "Epoch [   28/  100] | d_loss: 1.3201 | g_loss: 0.9674\n",
            "Epoch [   28/  100] | d_loss: 1.2712 | g_loss: 0.9226\n",
            "Epoch [   28/  100] | d_loss: 1.3438 | g_loss: 1.1002\n",
            "Epoch [   29/  100] | d_loss: 1.2854 | g_loss: 1.1466\n",
            "Epoch [   29/  100] | d_loss: 1.2941 | g_loss: 0.9014\n",
            "Epoch [   29/  100] | d_loss: 1.3788 | g_loss: 0.9496\n",
            "Epoch [   30/  100] | d_loss: 1.3347 | g_loss: 0.8591\n",
            "Epoch [   30/  100] | d_loss: 1.3543 | g_loss: 1.0131\n",
            "Epoch [   30/  100] | d_loss: 1.4234 | g_loss: 1.0310\n",
            "Epoch [   31/  100] | d_loss: 1.2984 | g_loss: 1.2899\n",
            "Epoch [   31/  100] | d_loss: 1.2259 | g_loss: 1.1602\n",
            "Epoch [   31/  100] | d_loss: 1.3833 | g_loss: 0.9228\n",
            "Epoch [   32/  100] | d_loss: 1.3242 | g_loss: 1.0486\n",
            "Epoch [   32/  100] | d_loss: 1.1615 | g_loss: 1.0828\n",
            "Epoch [   32/  100] | d_loss: 1.3237 | g_loss: 0.8722\n",
            "Epoch [   33/  100] | d_loss: 1.2625 | g_loss: 0.9149\n",
            "Epoch [   33/  100] | d_loss: 1.4024 | g_loss: 0.9195\n",
            "Epoch [   33/  100] | d_loss: 1.2094 | g_loss: 1.0326\n",
            "Epoch [   34/  100] | d_loss: 1.2935 | g_loss: 0.9764\n",
            "Epoch [   34/  100] | d_loss: 1.3020 | g_loss: 0.9052\n",
            "Epoch [   34/  100] | d_loss: 1.3046 | g_loss: 1.0348\n",
            "Epoch [   35/  100] | d_loss: 1.2941 | g_loss: 1.0570\n",
            "Epoch [   35/  100] | d_loss: 1.2946 | g_loss: 0.9275\n",
            "Epoch [   35/  100] | d_loss: 1.2871 | g_loss: 1.0188\n",
            "Epoch [   36/  100] | d_loss: 1.2101 | g_loss: 1.6703\n",
            "Epoch [   36/  100] | d_loss: 1.2746 | g_loss: 1.2412\n",
            "Epoch [   36/  100] | d_loss: 1.3958 | g_loss: 0.8818\n",
            "Epoch [   37/  100] | d_loss: 1.2963 | g_loss: 1.0781\n",
            "Epoch [   37/  100] | d_loss: 1.3342 | g_loss: 1.1128\n",
            "Epoch [   37/  100] | d_loss: 1.3695 | g_loss: 1.4401\n",
            "Epoch [   38/  100] | d_loss: 1.2766 | g_loss: 1.1960\n",
            "Epoch [   38/  100] | d_loss: 1.2755 | g_loss: 1.0560\n",
            "Epoch [   38/  100] | d_loss: 1.3192 | g_loss: 0.9933\n",
            "Epoch [   39/  100] | d_loss: 1.2882 | g_loss: 1.1391\n",
            "Epoch [   39/  100] | d_loss: 1.3147 | g_loss: 1.0337\n",
            "Epoch [   39/  100] | d_loss: 1.2852 | g_loss: 1.3139\n",
            "Epoch [   40/  100] | d_loss: 1.2925 | g_loss: 0.9899\n",
            "Epoch [   40/  100] | d_loss: 1.2354 | g_loss: 1.2443\n",
            "Epoch [   40/  100] | d_loss: 1.1704 | g_loss: 1.0028\n",
            "Epoch [   41/  100] | d_loss: 1.3031 | g_loss: 1.0365\n",
            "Epoch [   41/  100] | d_loss: 1.1505 | g_loss: 1.1208\n",
            "Epoch [   41/  100] | d_loss: 1.2967 | g_loss: 1.0475\n",
            "Epoch [   42/  100] | d_loss: 1.3526 | g_loss: 0.9853\n",
            "Epoch [   42/  100] | d_loss: 1.3337 | g_loss: 0.9488\n",
            "Epoch [   42/  100] | d_loss: 1.3595 | g_loss: 0.8631\n",
            "Epoch [   43/  100] | d_loss: 1.2932 | g_loss: 0.8225\n",
            "Epoch [   43/  100] | d_loss: 1.2930 | g_loss: 0.8738\n",
            "Epoch [   43/  100] | d_loss: 1.2719 | g_loss: 1.0232\n",
            "Epoch [   44/  100] | d_loss: 1.3259 | g_loss: 1.1952\n",
            "Epoch [   44/  100] | d_loss: 1.3616 | g_loss: 0.9116\n",
            "Epoch [   44/  100] | d_loss: 1.2862 | g_loss: 1.1876\n",
            "Epoch [   45/  100] | d_loss: 1.3604 | g_loss: 1.0166\n",
            "Epoch [   45/  100] | d_loss: 1.4752 | g_loss: 0.8349\n",
            "Epoch [   45/  100] | d_loss: 1.3682 | g_loss: 0.9092\n",
            "Epoch [   46/  100] | d_loss: 1.3377 | g_loss: 0.9500\n",
            "Epoch [   46/  100] | d_loss: 1.3303 | g_loss: 1.1150\n",
            "Epoch [   46/  100] | d_loss: 1.3298 | g_loss: 0.9133\n",
            "Epoch [   47/  100] | d_loss: 1.2918 | g_loss: 0.8352\n",
            "Epoch [   47/  100] | d_loss: 1.3304 | g_loss: 0.9452\n",
            "Epoch [   47/  100] | d_loss: 1.3691 | g_loss: 1.0166\n",
            "Epoch [   48/  100] | d_loss: 1.2878 | g_loss: 1.0888\n",
            "Epoch [   48/  100] | d_loss: 1.3246 | g_loss: 0.8671\n",
            "Epoch [   48/  100] | d_loss: 1.3607 | g_loss: 0.8989\n",
            "Epoch [   49/  100] | d_loss: 1.4288 | g_loss: 1.3067\n",
            "Epoch [   49/  100] | d_loss: 1.3099 | g_loss: 1.0085\n",
            "Epoch [   49/  100] | d_loss: 1.3606 | g_loss: 1.0017\n",
            "Epoch [   50/  100] | d_loss: 1.3297 | g_loss: 0.8476\n",
            "Epoch [   50/  100] | d_loss: 1.3090 | g_loss: 0.9667\n",
            "Epoch [   50/  100] | d_loss: 1.4206 | g_loss: 0.9383\n",
            "Epoch [   51/  100] | d_loss: 1.2592 | g_loss: 0.9565\n",
            "Epoch [   51/  100] | d_loss: 1.2301 | g_loss: 0.9670\n",
            "Epoch [   51/  100] | d_loss: 1.3551 | g_loss: 0.8910\n",
            "Epoch [   52/  100] | d_loss: 1.2707 | g_loss: 1.3748\n",
            "Epoch [   52/  100] | d_loss: 1.2887 | g_loss: 1.1036\n",
            "Epoch [   52/  100] | d_loss: 1.2826 | g_loss: 0.9514\n",
            "Epoch [   53/  100] | d_loss: 1.2384 | g_loss: 1.2097\n",
            "Epoch [   53/  100] | d_loss: 1.2739 | g_loss: 0.8548\n",
            "Epoch [   53/  100] | d_loss: 1.3222 | g_loss: 1.0827\n",
            "Epoch [   54/  100] | d_loss: 1.1382 | g_loss: 0.9572\n",
            "Epoch [   54/  100] | d_loss: 1.2323 | g_loss: 1.0101\n",
            "Epoch [   54/  100] | d_loss: 1.3588 | g_loss: 0.9355\n",
            "Epoch [   55/  100] | d_loss: 1.2910 | g_loss: 0.9690\n",
            "Epoch [   55/  100] | d_loss: 1.3392 | g_loss: 0.8557\n",
            "Epoch [   55/  100] | d_loss: 1.3644 | g_loss: 0.8883\n",
            "Epoch [   56/  100] | d_loss: 1.2234 | g_loss: 0.9733\n",
            "Epoch [   56/  100] | d_loss: 1.2977 | g_loss: 0.9314\n",
            "Epoch [   56/  100] | d_loss: 1.2894 | g_loss: 0.9436\n",
            "Epoch [   57/  100] | d_loss: 1.3615 | g_loss: 1.1439\n",
            "Epoch [   57/  100] | d_loss: 1.1797 | g_loss: 1.1523\n",
            "Epoch [   57/  100] | d_loss: 1.2342 | g_loss: 1.0222\n",
            "Epoch [   58/  100] | d_loss: 1.3145 | g_loss: 0.8819\n",
            "Epoch [   58/  100] | d_loss: 1.2810 | g_loss: 1.0469\n",
            "Epoch [   58/  100] | d_loss: 1.2946 | g_loss: 0.9201\n",
            "Epoch [   59/  100] | d_loss: 1.2813 | g_loss: 1.2462\n",
            "Epoch [   59/  100] | d_loss: 1.2900 | g_loss: 0.9555\n",
            "Epoch [   59/  100] | d_loss: 1.3407 | g_loss: 0.9567\n",
            "Epoch [   60/  100] | d_loss: 1.2362 | g_loss: 1.0110\n",
            "Epoch [   60/  100] | d_loss: 1.2588 | g_loss: 1.1012\n",
            "Epoch [   60/  100] | d_loss: 1.4189 | g_loss: 0.9033\n",
            "Epoch [   61/  100] | d_loss: 1.2789 | g_loss: 0.9964\n",
            "Epoch [   61/  100] | d_loss: 1.2764 | g_loss: 0.9249\n",
            "Epoch [   61/  100] | d_loss: 1.2914 | g_loss: 1.0387\n",
            "Epoch [   62/  100] | d_loss: 1.2431 | g_loss: 0.8998\n",
            "Epoch [   62/  100] | d_loss: 1.2909 | g_loss: 1.1724\n",
            "Epoch [   62/  100] | d_loss: 1.2901 | g_loss: 1.0250\n",
            "Epoch [   63/  100] | d_loss: 1.3629 | g_loss: 0.9933\n",
            "Epoch [   63/  100] | d_loss: 1.2713 | g_loss: 1.4394\n",
            "Epoch [   63/  100] | d_loss: 1.3635 | g_loss: 1.0526\n",
            "Epoch [   64/  100] | d_loss: 1.3719 | g_loss: 0.9845\n",
            "Epoch [   64/  100] | d_loss: 1.3226 | g_loss: 1.1237\n",
            "Epoch [   64/  100] | d_loss: 1.3490 | g_loss: 1.0234\n",
            "Epoch [   65/  100] | d_loss: 1.2506 | g_loss: 1.0662\n",
            "Epoch [   65/  100] | d_loss: 1.2502 | g_loss: 0.8324\n",
            "Epoch [   65/  100] | d_loss: 1.2900 | g_loss: 1.0153\n",
            "Epoch [   66/  100] | d_loss: 1.2943 | g_loss: 1.0096\n",
            "Epoch [   66/  100] | d_loss: 1.2374 | g_loss: 1.1063\n",
            "Epoch [   66/  100] | d_loss: 1.3012 | g_loss: 1.0499\n",
            "Epoch [   67/  100] | d_loss: 1.2545 | g_loss: 1.0867\n",
            "Epoch [   67/  100] | d_loss: 1.4068 | g_loss: 0.9206\n",
            "Epoch [   67/  100] | d_loss: 1.3644 | g_loss: 0.9277\n",
            "Epoch [   68/  100] | d_loss: 1.2944 | g_loss: 1.1231\n",
            "Epoch [   68/  100] | d_loss: 1.2554 | g_loss: 0.9483\n",
            "Epoch [   68/  100] | d_loss: 1.2356 | g_loss: 1.1159\n",
            "Epoch [   69/  100] | d_loss: 1.2791 | g_loss: 0.9210\n",
            "Epoch [   69/  100] | d_loss: 1.2739 | g_loss: 0.8512\n",
            "Epoch [   69/  100] | d_loss: 1.4122 | g_loss: 0.9582\n",
            "Epoch [   70/  100] | d_loss: 1.3217 | g_loss: 0.9027\n",
            "Epoch [   70/  100] | d_loss: 1.2522 | g_loss: 1.0081\n",
            "Epoch [   70/  100] | d_loss: 1.4533 | g_loss: 0.9824\n",
            "Epoch [   71/  100] | d_loss: 1.2124 | g_loss: 1.2148\n",
            "Epoch [   71/  100] | d_loss: 1.1590 | g_loss: 1.5956\n",
            "Epoch [   71/  100] | d_loss: 1.3322 | g_loss: 1.1481\n",
            "Epoch [   72/  100] | d_loss: 1.2459 | g_loss: 1.3234\n",
            "Epoch [   72/  100] | d_loss: 1.3016 | g_loss: 1.3262\n",
            "Epoch [   72/  100] | d_loss: 1.2922 | g_loss: 0.9732\n",
            "Epoch [   73/  100] | d_loss: 1.3470 | g_loss: 0.8991\n",
            "Epoch [   73/  100] | d_loss: 1.2350 | g_loss: 1.0349\n",
            "Epoch [   73/  100] | d_loss: 1.3058 | g_loss: 0.9997\n",
            "Epoch [   74/  100] | d_loss: 1.2589 | g_loss: 0.8449\n",
            "Epoch [   74/  100] | d_loss: 1.2192 | g_loss: 0.7727\n",
            "Epoch [   74/  100] | d_loss: 1.4009 | g_loss: 0.9293\n",
            "Epoch [   75/  100] | d_loss: 1.1748 | g_loss: 2.2873\n",
            "Epoch [   75/  100] | d_loss: 1.3009 | g_loss: 0.9539\n",
            "Epoch [   75/  100] | d_loss: 1.2698 | g_loss: 0.9778\n",
            "Epoch [   76/  100] | d_loss: 1.3187 | g_loss: 0.9574\n",
            "Epoch [   76/  100] | d_loss: 1.3102 | g_loss: 0.9216\n",
            "Epoch [   76/  100] | d_loss: 1.2766 | g_loss: 0.9045\n",
            "Epoch [   77/  100] | d_loss: 1.1895 | g_loss: 1.1915\n",
            "Epoch [   77/  100] | d_loss: 1.2944 | g_loss: 1.0421\n",
            "Epoch [   77/  100] | d_loss: 1.3315 | g_loss: 1.0315\n",
            "Epoch [   78/  100] | d_loss: 1.2880 | g_loss: 0.8850\n",
            "Epoch [   78/  100] | d_loss: 1.2515 | g_loss: 0.9275\n",
            "Epoch [   78/  100] | d_loss: 1.3376 | g_loss: 1.1245\n",
            "Epoch [   79/  100] | d_loss: 1.3191 | g_loss: 0.8112\n",
            "Epoch [   79/  100] | d_loss: 1.2928 | g_loss: 1.0275\n",
            "Epoch [   79/  100] | d_loss: 1.3357 | g_loss: 1.0187\n",
            "Epoch [   80/  100] | d_loss: 1.2653 | g_loss: 0.8237\n",
            "Epoch [   80/  100] | d_loss: 1.2507 | g_loss: 1.1169\n",
            "Epoch [   80/  100] | d_loss: 1.2588 | g_loss: 1.0675\n",
            "Epoch [   81/  100] | d_loss: 1.2959 | g_loss: 0.9630\n",
            "Epoch [   81/  100] | d_loss: 1.2225 | g_loss: 0.9295\n",
            "Epoch [   81/  100] | d_loss: 1.4058 | g_loss: 0.9770\n",
            "Epoch [   82/  100] | d_loss: 1.2158 | g_loss: 1.0422\n",
            "Epoch [   82/  100] | d_loss: 1.1984 | g_loss: 0.8721\n",
            "Epoch [   82/  100] | d_loss: 1.3005 | g_loss: 1.0936\n",
            "Epoch [   83/  100] | d_loss: 1.2330 | g_loss: 1.1905\n",
            "Epoch [   83/  100] | d_loss: 1.2871 | g_loss: 1.1026\n",
            "Epoch [   83/  100] | d_loss: 1.2747 | g_loss: 1.2084\n",
            "Epoch [   84/  100] | d_loss: 1.3313 | g_loss: 0.8423\n",
            "Epoch [   84/  100] | d_loss: 1.2642 | g_loss: 1.0268\n",
            "Epoch [   84/  100] | d_loss: 1.4920 | g_loss: 0.9593\n",
            "Epoch [   85/  100] | d_loss: 1.2901 | g_loss: 0.9563\n",
            "Epoch [   85/  100] | d_loss: 1.2580 | g_loss: 0.9440\n",
            "Epoch [   85/  100] | d_loss: 1.3478 | g_loss: 0.9926\n",
            "Epoch [   86/  100] | d_loss: 1.3315 | g_loss: 1.0977\n",
            "Epoch [   86/  100] | d_loss: 1.2654 | g_loss: 1.0742\n",
            "Epoch [   86/  100] | d_loss: 1.4597 | g_loss: 0.9043\n",
            "Epoch [   87/  100] | d_loss: 1.2981 | g_loss: 0.9173\n",
            "Epoch [   87/  100] | d_loss: 1.2572 | g_loss: 1.0902\n",
            "Epoch [   87/  100] | d_loss: 1.2462 | g_loss: 0.9186\n",
            "Epoch [   88/  100] | d_loss: 1.2640 | g_loss: 0.9734\n",
            "Epoch [   88/  100] | d_loss: 1.1721 | g_loss: 1.0322\n",
            "Epoch [   88/  100] | d_loss: 1.2308 | g_loss: 1.1910\n",
            "Epoch [   89/  100] | d_loss: 1.2860 | g_loss: 1.1173\n",
            "Epoch [   89/  100] | d_loss: 1.2332 | g_loss: 0.9997\n",
            "Epoch [   89/  100] | d_loss: 1.3339 | g_loss: 1.0211\n",
            "Epoch [   90/  100] | d_loss: 1.3132 | g_loss: 0.9811\n",
            "Epoch [   90/  100] | d_loss: 1.3248 | g_loss: 0.9557\n",
            "Epoch [   90/  100] | d_loss: 1.3575 | g_loss: 1.0333\n",
            "Epoch [   91/  100] | d_loss: 1.2687 | g_loss: 1.1923\n",
            "Epoch [   91/  100] | d_loss: 1.2548 | g_loss: 0.9525\n",
            "Epoch [   91/  100] | d_loss: 1.3350 | g_loss: 1.2330\n",
            "Epoch [   92/  100] | d_loss: 1.2546 | g_loss: 1.1598\n",
            "Epoch [   92/  100] | d_loss: 1.2453 | g_loss: 1.1018\n",
            "Epoch [   92/  100] | d_loss: 1.2655 | g_loss: 1.1091\n",
            "Epoch [   93/  100] | d_loss: 1.2435 | g_loss: 1.0478\n",
            "Epoch [   93/  100] | d_loss: 1.3928 | g_loss: 0.9339\n",
            "Epoch [   93/  100] | d_loss: 1.4319 | g_loss: 1.2534\n",
            "Epoch [   94/  100] | d_loss: 1.2501 | g_loss: 0.8811\n",
            "Epoch [   94/  100] | d_loss: 1.2831 | g_loss: 0.9243\n",
            "Epoch [   94/  100] | d_loss: 1.3535 | g_loss: 1.0056\n",
            "Epoch [   95/  100] | d_loss: 1.4128 | g_loss: 1.1053\n",
            "Epoch [   95/  100] | d_loss: 1.2087 | g_loss: 1.3034\n",
            "Epoch [   95/  100] | d_loss: 1.3502 | g_loss: 0.8982\n",
            "Epoch [   96/  100] | d_loss: 1.2481 | g_loss: 0.9884\n",
            "Epoch [   96/  100] | d_loss: 1.2790 | g_loss: 0.9815\n",
            "Epoch [   96/  100] | d_loss: 1.3742 | g_loss: 1.0974\n",
            "Epoch [   97/  100] | d_loss: 1.4014 | g_loss: 0.9866\n",
            "Epoch [   97/  100] | d_loss: 1.2437 | g_loss: 1.1419\n",
            "Epoch [   97/  100] | d_loss: 1.2881 | g_loss: 1.0619\n",
            "Epoch [   98/  100] | d_loss: 1.2867 | g_loss: 0.9973\n",
            "Epoch [   98/  100] | d_loss: 1.2781 | g_loss: 1.0001\n",
            "Epoch [   98/  100] | d_loss: 1.4245 | g_loss: 1.1571\n",
            "Epoch [   99/  100] | d_loss: 1.3464 | g_loss: 0.8814\n",
            "Epoch [   99/  100] | d_loss: 1.2682 | g_loss: 1.0464\n",
            "Epoch [   99/  100] | d_loss: 1.2829 | g_loss: 1.0464\n",
            "Epoch [  100/  100] | d_loss: 1.2758 | g_loss: 1.3361\n",
            "Epoch [  100/  100] | d_loss: 1.2680 | g_loss: 1.1227\n",
            "Epoch [  100/  100] | d_loss: 1.3693 | g_loss: 0.9883\n"
          ],
          "name": "stdout"
        }
      ]
    },
    {
      "cell_type": "markdown",
      "metadata": {
        "id": "hOF3zi4XBImi"
      },
      "source": [
        "**Training Loss**\n",
        "\n",
        "Here we'll plot the training losses for the generator and discriminator, recorded after each epoch."
      ]
    },
    {
      "cell_type": "code",
      "metadata": {
        "colab": {
          "base_uri": "https://localhost:8080/",
          "height": 299
        },
        "id": "_ZXnQ50TBVlz",
        "outputId": "b0774858-d77f-4669-d470-022c8b481baa"
      },
      "source": [
        "fig, ax = plt.subplots()\n",
        "losses = np.array(losses)\n",
        "plt.plot(losses.T[0], label='Discriminator')\n",
        "plt.plot(losses.T[1], label='Generator')\n",
        "plt.title(\"Training Losses\")\n",
        "plt.legend()"
      ],
      "execution_count": 13,
      "outputs": [
        {
          "output_type": "execute_result",
          "data": {
            "text/plain": [
              "<matplotlib.legend.Legend at 0x7f58cffc6390>"
            ]
          },
          "metadata": {
            "tags": []
          },
          "execution_count": 13
        },
        {
          "output_type": "display_data",
          "data": {
            "image/png": "[encoded data removed]",
            "text/plain": [
              "<Figure size 432x288 with 1 Axes>"
            ]
          },
          "metadata": {
            "tags": [],
            "needs_background": "light"
          }
        }
      ]
    },
    {
      "cell_type": "markdown",
      "metadata": {
        "id": "PUHoNeyvBdRj"
      },
      "source": [
        "**Generator Samples from Training**\n",
        "\n",
        "Here we can view samples of images from the generator. First we'll look at the images we saved during training."
      ]
    },
    {
      "cell_type": "code",
      "metadata": {
        "id": "hdfzqHN-BnwC"
      },
      "source": [
        "# helper function for viewing a list of passed in sample images\n",
        "def view_samples(epoch, samples):\n",
        "    fig, axes = plt.subplots(figsize=(7,7), nrows=4, ncols=4, sharey=True, sharex=True)\n",
        "    for ax, img in zip(axes.flatten(), samples[epoch]):\n",
        "        img = img.detach()\n",
        "        ax.xaxis.set_visible(False)\n",
        "        ax.yaxis.set_visible(False)\n",
        "        im = ax.imshow(img.reshape((28,28)), cmap='Greys_r')"
      ],
      "execution_count": 14,
      "outputs": []
    },
    {
      "cell_type": "code",
      "metadata": {
        "id": "qxwdjEESBqCS"
      },
      "source": [
        "# Load samples from generator, taken while training\n",
        "with open('train_samples.pkl', 'rb') as f:\n",
        "    samples = pkl.load(f)"
      ],
      "execution_count": 15,
      "outputs": []
    },
    {
      "cell_type": "markdown",
      "metadata": {
        "id": "SYP9rKYaBtor"
      },
      "source": [
        "These are samples from the final training epoch. You can see the generator is able to reproduce numbers like 1, 7, 3, 2. Since this is just a sample, it isn't representative of the full range of images this generator can make."
      ]
    },
    {
      "cell_type": "code",
      "metadata": {
        "colab": {
          "base_uri": "https://localhost:8080/",
          "height": 415
        },
        "id": "NZzoxRSrBw9u",
        "outputId": "0cbbcea8-b3d2-4454-8b21-aaa8c2a80b04"
      },
      "source": [
        "# -1 indicates final epoch's samples (the last in the list)\n",
        "view_samples(-1, samples)"
      ],
      "execution_count": 16,
      "outputs": [
        {
          "output_type": "display_data",
          "data": {
            "image/png": "[encoded data removed]",
            "text/plain": [
              "<Figure size 504x504 with 16 Axes>"
            ]
          },
          "metadata": {
            "tags": [],
            "needs_background": "light"
          }
        }
      ]
    },
    {
      "cell_type": "markdown",
      "metadata": {
        "id": "YaezQGKIB4Q4"
      },
      "source": [
        "Below I'm showing the generated images as the network was training, every 10 epochs."
      ]
    },
    {
      "cell_type": "code",
      "metadata": {
        "colab": {
          "base_uri": "https://localhost:8080/",
          "height": 687
        },
        "id": "3y1d0W1DB5H-",
        "outputId": "e38569de-76b1-4863-cda3-4d36e46d9760"
      },
      "source": [
        "rows = 10 # split epochs into 10, so 100/10 = every 10 epochs\n",
        "cols = 6\n",
        "fig, axes = plt.subplots(figsize=(7,12), nrows=rows, ncols=cols, sharex=True, sharey=True)\n",
        "\n",
        "for sample, ax_row in zip(samples[::int(len(samples)/rows)], axes):\n",
        "    for img, ax in zip(sample[::int(len(sample)/cols)], ax_row):\n",
        "        img = img.detach()\n",
        "        ax.imshow(img.reshape((28,28)), cmap='Greys_r')\n",
        "        ax.xaxis.set_visible(False)\n",
        "        ax.yaxis.set_visible(False)"
      ],
      "execution_count": 17,
      "outputs": [
        {
          "output_type": "display_data",
          "data": {
            "image/png": "[encoded data removed]",
            "text/plain": [
              "<Figure size 504x864 with 60 Axes>"
            ]
          },
          "metadata": {
            "tags": [],
            "needs_background": "light"
          }
        }
      ]
    },
    {
      "cell_type": "markdown",
      "metadata": {
        "id": "pzddMRxxCCyj"
      },
      "source": [
        "It starts out as all noise. Then it learns to make only the center white and the rest black. You can start to see some number like structures appear out of the noise like 1s and 9s."
      ]
    },
    {
      "cell_type": "markdown",
      "metadata": {
        "id": "5_jGAnP4CIM2"
      },
      "source": [
        "**Sampling from the Generator**\n",
        "\n",
        "We can also get completely new images from the generator by using the checkpoint we saved after training.**We just need to pass in a new latent vector $z$ and we'll get new samples!**"
      ]
    },
    {
      "cell_type": "code",
      "metadata": {
        "colab": {
          "base_uri": "https://localhost:8080/",
          "height": 450
        },
        "id": "6bZFcm0ZCXJn",
        "outputId": "10aebff1-e186-4117-e624-d5ba55a2b366"
      },
      "source": [
        "# randomly generated, new latent vectors\n",
        "sample_size=16\n",
        "rand_z = np.random.uniform(-1, 1, size=(sample_size, z_size))\n",
        "rand_z = torch.from_numpy(rand_z).float()\n",
        "\n",
        "G.eval() # eval mode\n",
        "# generated samples\n",
        "rand_images = G(rand_z)\n",
        "\n",
        "# 0 indicates the first set of samples in the passed in list\n",
        "# and we only have one batch of samples, here\n",
        "view_samples(0, [rand_images])"
      ],
      "execution_count": 18,
      "outputs": [
        {
          "output_type": "stream",
          "text": [
            "/usr/local/lib/python3.7/dist-packages/torch/nn/functional.py:1794: UserWarning: nn.functional.tanh is deprecated. Use torch.tanh instead.\n",
            "  warnings.warn(\"nn.functional.tanh is deprecated. Use torch.tanh instead.\")\n"
          ],
          "name": "stderr"
        },
        {
          "output_type": "display_data",
          "data": {
            "image/png": "[encoded data removed]",
            "text/plain": [
              "<Figure size 504x504 with 16 Axes>"
            ]
          },
          "metadata": {
            "tags": [],
            "needs_background": "light"
          }
        }
      ]
    }
  ]
}